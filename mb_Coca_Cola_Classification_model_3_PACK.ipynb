{
  "nbformat": 4,
  "nbformat_minor": 0,
  "metadata": {
    "colab": {
      "provenance": [],
      "collapsed_sections": [
        "hZpMUrRaqbsz"
      ],
      "toc_visible": true,
      "include_colab_link": true
    },
    "kernelspec": {
      "name": "python3",
      "display_name": "Python 3"
    },
    "language_info": {
      "name": "python"
    }
  },
  "cells": [
    {
      "cell_type": "markdown",
      "metadata": {
        "id": "view-in-github",
        "colab_type": "text"
      },
      "source": [
        "<a href=\"https://colab.research.google.com/github/maria-becerra/LEARN_GIT/blob/master/mb_Coca_Cola_Classification_model_3_PACK.ipynb\" target=\"_parent\"><img src=\"https://colab.research.google.com/assets/colab-badge.svg\" alt=\"Open In Colab\"/></a>"
      ]
    },
    {
      "cell_type": "code",
      "execution_count": null,
      "metadata": {
        "id": "cnA94GjdAAD0"
      },
      "outputs": [],
      "source": [
        "import pandas              as pd\n",
        "import numpy               as np\n",
        "import re                        # Import the regular expression module"
      ]
    },
    {
      "cell_type": "code",
      "source": [
        "# Create requirements file\n",
        "#!pip freeze > requirements.txt"
      ],
      "metadata": {
        "id": "5WhLHNcTBRvU"
      },
      "execution_count": null,
      "outputs": []
    },
    {
      "cell_type": "code",
      "source": [
        "from google.colab import drive\n",
        "drive.mount('/content/drive')\n",
        "\n",
        "file_path = '/content/drive/My Drive/Capstone/Dataset.csv'\n",
        "\n",
        "df = pd.read_csv(file_path, sep=',', low_memory=False)\n",
        "df.head(5)"
      ],
      "metadata": {
        "colab": {
          "base_uri": "https://localhost:8080/",
          "height": 439
        },
        "id": "NLsJeYsUxZpM",
        "outputId": "1bdabb4b-add7-49d0-8259-93dbdc2a0deb"
      },
      "execution_count": null,
      "outputs": [
        {
          "output_type": "stream",
          "name": "stdout",
          "text": [
            "Drive already mounted at /content/drive; to attempt to forcibly remount, call drive.mount(\"/content/drive\", force_remount=True).\n"
          ]
        },
        {
          "output_type": "execute_result",
          "data": {
            "text/plain": [
              "  STORE_CHAIN  UPC                  DESCRIPTION_1       DESCRIPTION_2  DIST  \\\n",
              "0         LCL    0     COCA COLA CLASSIC SLIM CAN                 NaN   NaN   \n",
              "1         SDM    0                      UNDEFINED           UNDEFINED   NaN   \n",
              "2       METRO    2  pal.UncleB.rice asst. 540x1un                 NaN   NaN   \n",
              "3    CIRCLE K    7        LIPTON T.G.CITRON 500ML     OTHER BEVERAGES   NaN   \n",
              "4    CIRCLE K   18            FROSTER SWIRL 350ML  Frz Disp Bevs (83)   NaN   \n",
              "\n",
              "          MANUFACTURER    PRODUCT SIZE_ML    COUNT       SALES   ...  \\\n",
              "0                    -  Coca-Cola       2      NaN               ...   \n",
              "1  PEPSI-COLA BEV(CTL)    UNKNOWN       1      NaN               ...   \n",
              "2      MARS CANADA INC        NaN     NaN      NaN           5   ...   \n",
              "3           PEPSI-COLA        NaN       1       UN           8   ...   \n",
              "4              Unknown        NaN       0  Unknown   3,382,989   ...   \n",
              "\n",
              "  TARGET_SIZE_ML TARGET_COUNT TARGET_PACK_CONTENT TARGET_PACK_TYPE  \\\n",
              "0            NaN          NaN                 NaN              NaN   \n",
              "1            NaN          NaN                 NaN              NaN   \n",
              "2            NaN          NaN                 NaN              NaN   \n",
              "3         1000.0          1.0        BOTTLE - PET               FC   \n",
              "4            NaN          NaN                 NaN              NaN   \n",
              "\n",
              "  TARGET_PACK_SUBTYPE TARGET_CATEGORY  TARGET_TYPE  TARGET_SWEETNER  \\\n",
              "0                 NaN             NaN          NaN              NaN   \n",
              "1                 NaN             NaN          NaN              NaN   \n",
              "2                 NaN             NaN          NaN              NaN   \n",
              "3  FUTURE CONSUMPTION           WATER      CLASSIC         ORIGINAL   \n",
              "4                 NaN             NaN          NaN              NaN   \n",
              "\n",
              "  TARGET_FLAVOUR TARGET_FLAVOUR_GROUPED  \n",
              "0            NaN                    NaN  \n",
              "1            NaN                    NaN  \n",
              "2            NaN                    NaN  \n",
              "3       ALKALINE     WATER (UNFLAVORED)  \n",
              "4            NaN                    NaN  \n",
              "\n",
              "[5 rows x 26 columns]"
            ],
            "text/html": [
              "\n",
              "\n",
              "  <div id=\"df-4b307f95-47c5-4c6b-8966-5d151a538828\">\n",
              "    <div class=\"colab-df-container\">\n",
              "      <div>\n",
              "<style scoped>\n",
              "    .dataframe tbody tr th:only-of-type {\n",
              "        vertical-align: middle;\n",
              "    }\n",
              "\n",
              "    .dataframe tbody tr th {\n",
              "        vertical-align: top;\n",
              "    }\n",
              "\n",
              "    .dataframe thead th {\n",
              "        text-align: right;\n",
              "    }\n",
              "</style>\n",
              "<table border=\"1\" class=\"dataframe\">\n",
              "  <thead>\n",
              "    <tr style=\"text-align: right;\">\n",
              "      <th></th>\n",
              "      <th>STORE_CHAIN</th>\n",
              "      <th>UPC</th>\n",
              "      <th>DESCRIPTION_1</th>\n",
              "      <th>DESCRIPTION_2</th>\n",
              "      <th>DIST</th>\n",
              "      <th>MANUFACTURER</th>\n",
              "      <th>PRODUCT</th>\n",
              "      <th>SIZE_ML</th>\n",
              "      <th>COUNT</th>\n",
              "      <th>SALES</th>\n",
              "      <th>...</th>\n",
              "      <th>TARGET_SIZE_ML</th>\n",
              "      <th>TARGET_COUNT</th>\n",
              "      <th>TARGET_PACK_CONTENT</th>\n",
              "      <th>TARGET_PACK_TYPE</th>\n",
              "      <th>TARGET_PACK_SUBTYPE</th>\n",
              "      <th>TARGET_CATEGORY</th>\n",
              "      <th>TARGET_TYPE</th>\n",
              "      <th>TARGET_SWEETNER</th>\n",
              "      <th>TARGET_FLAVOUR</th>\n",
              "      <th>TARGET_FLAVOUR_GROUPED</th>\n",
              "    </tr>\n",
              "  </thead>\n",
              "  <tbody>\n",
              "    <tr>\n",
              "      <th>0</th>\n",
              "      <td>LCL</td>\n",
              "      <td>0</td>\n",
              "      <td>COCA COLA CLASSIC SLIM CAN</td>\n",
              "      <td>NaN</td>\n",
              "      <td>NaN</td>\n",
              "      <td>-</td>\n",
              "      <td>Coca-Cola</td>\n",
              "      <td>2</td>\n",
              "      <td>NaN</td>\n",
              "      <td></td>\n",
              "      <td>...</td>\n",
              "      <td>NaN</td>\n",
              "      <td>NaN</td>\n",
              "      <td>NaN</td>\n",
              "      <td>NaN</td>\n",
              "      <td>NaN</td>\n",
              "      <td>NaN</td>\n",
              "      <td>NaN</td>\n",
              "      <td>NaN</td>\n",
              "      <td>NaN</td>\n",
              "      <td>NaN</td>\n",
              "    </tr>\n",
              "    <tr>\n",
              "      <th>1</th>\n",
              "      <td>SDM</td>\n",
              "      <td>0</td>\n",
              "      <td>UNDEFINED</td>\n",
              "      <td>UNDEFINED</td>\n",
              "      <td>NaN</td>\n",
              "      <td>PEPSI-COLA BEV(CTL)</td>\n",
              "      <td>UNKNOWN</td>\n",
              "      <td>1</td>\n",
              "      <td>NaN</td>\n",
              "      <td></td>\n",
              "      <td>...</td>\n",
              "      <td>NaN</td>\n",
              "      <td>NaN</td>\n",
              "      <td>NaN</td>\n",
              "      <td>NaN</td>\n",
              "      <td>NaN</td>\n",
              "      <td>NaN</td>\n",
              "      <td>NaN</td>\n",
              "      <td>NaN</td>\n",
              "      <td>NaN</td>\n",
              "      <td>NaN</td>\n",
              "    </tr>\n",
              "    <tr>\n",
              "      <th>2</th>\n",
              "      <td>METRO</td>\n",
              "      <td>2</td>\n",
              "      <td>pal.UncleB.rice asst. 540x1un</td>\n",
              "      <td>NaN</td>\n",
              "      <td>NaN</td>\n",
              "      <td>MARS CANADA INC</td>\n",
              "      <td>NaN</td>\n",
              "      <td>NaN</td>\n",
              "      <td>NaN</td>\n",
              "      <td>5</td>\n",
              "      <td>...</td>\n",
              "      <td>NaN</td>\n",
              "      <td>NaN</td>\n",
              "      <td>NaN</td>\n",
              "      <td>NaN</td>\n",
              "      <td>NaN</td>\n",
              "      <td>NaN</td>\n",
              "      <td>NaN</td>\n",
              "      <td>NaN</td>\n",
              "      <td>NaN</td>\n",
              "      <td>NaN</td>\n",
              "    </tr>\n",
              "    <tr>\n",
              "      <th>3</th>\n",
              "      <td>CIRCLE K</td>\n",
              "      <td>7</td>\n",
              "      <td>LIPTON T.G.CITRON 500ML</td>\n",
              "      <td>OTHER BEVERAGES</td>\n",
              "      <td>NaN</td>\n",
              "      <td>PEPSI-COLA</td>\n",
              "      <td>NaN</td>\n",
              "      <td>1</td>\n",
              "      <td>UN</td>\n",
              "      <td>8</td>\n",
              "      <td>...</td>\n",
              "      <td>1000.0</td>\n",
              "      <td>1.0</td>\n",
              "      <td>BOTTLE - PET</td>\n",
              "      <td>FC</td>\n",
              "      <td>FUTURE CONSUMPTION</td>\n",
              "      <td>WATER</td>\n",
              "      <td>CLASSIC</td>\n",
              "      <td>ORIGINAL</td>\n",
              "      <td>ALKALINE</td>\n",
              "      <td>WATER (UNFLAVORED)</td>\n",
              "    </tr>\n",
              "    <tr>\n",
              "      <th>4</th>\n",
              "      <td>CIRCLE K</td>\n",
              "      <td>18</td>\n",
              "      <td>FROSTER SWIRL 350ML</td>\n",
              "      <td>Frz Disp Bevs (83)</td>\n",
              "      <td>NaN</td>\n",
              "      <td>Unknown</td>\n",
              "      <td>NaN</td>\n",
              "      <td>0</td>\n",
              "      <td>Unknown</td>\n",
              "      <td>3,382,989</td>\n",
              "      <td>...</td>\n",
              "      <td>NaN</td>\n",
              "      <td>NaN</td>\n",
              "      <td>NaN</td>\n",
              "      <td>NaN</td>\n",
              "      <td>NaN</td>\n",
              "      <td>NaN</td>\n",
              "      <td>NaN</td>\n",
              "      <td>NaN</td>\n",
              "      <td>NaN</td>\n",
              "      <td>NaN</td>\n",
              "    </tr>\n",
              "  </tbody>\n",
              "</table>\n",
              "<p>5 rows × 26 columns</p>\n",
              "</div>\n",
              "      <button class=\"colab-df-convert\" onclick=\"convertToInteractive('df-4b307f95-47c5-4c6b-8966-5d151a538828')\"\n",
              "              title=\"Convert this dataframe to an interactive table.\"\n",
              "              style=\"display:none;\">\n",
              "\n",
              "  <svg xmlns=\"http://www.w3.org/2000/svg\" height=\"24px\"viewBox=\"0 0 24 24\"\n",
              "       width=\"24px\">\n",
              "    <path d=\"M0 0h24v24H0V0z\" fill=\"none\"/>\n",
              "    <path d=\"M18.56 5.44l.94 2.06.94-2.06 2.06-.94-2.06-.94-.94-2.06-.94 2.06-2.06.94zm-11 1L8.5 8.5l.94-2.06 2.06-.94-2.06-.94L8.5 2.5l-.94 2.06-2.06.94zm10 10l.94 2.06.94-2.06 2.06-.94-2.06-.94-.94-2.06-.94 2.06-2.06.94z\"/><path d=\"M17.41 7.96l-1.37-1.37c-.4-.4-.92-.59-1.43-.59-.52 0-1.04.2-1.43.59L10.3 9.45l-7.72 7.72c-.78.78-.78 2.05 0 2.83L4 21.41c.39.39.9.59 1.41.59.51 0 1.02-.2 1.41-.59l7.78-7.78 2.81-2.81c.8-.78.8-2.07 0-2.86zM5.41 20L4 18.59l7.72-7.72 1.47 1.35L5.41 20z\"/>\n",
              "  </svg>\n",
              "      </button>\n",
              "\n",
              "\n",
              "\n",
              "    <div id=\"df-6453686a-60bd-4fc9-9246-5f38fece5034\">\n",
              "      <button class=\"colab-df-quickchart\" onclick=\"quickchart('df-6453686a-60bd-4fc9-9246-5f38fece5034')\"\n",
              "              title=\"Suggest charts.\"\n",
              "              style=\"display:none;\">\n",
              "\n",
              "<svg xmlns=\"http://www.w3.org/2000/svg\" height=\"24px\"viewBox=\"0 0 24 24\"\n",
              "     width=\"24px\">\n",
              "    <g>\n",
              "        <path d=\"M19 3H5c-1.1 0-2 .9-2 2v14c0 1.1.9 2 2 2h14c1.1 0 2-.9 2-2V5c0-1.1-.9-2-2-2zM9 17H7v-7h2v7zm4 0h-2V7h2v10zm4 0h-2v-4h2v4z\"/>\n",
              "    </g>\n",
              "</svg>\n",
              "      </button>\n",
              "    </div>\n",
              "\n",
              "<style>\n",
              "  .colab-df-quickchart {\n",
              "    background-color: #E8F0FE;\n",
              "    border: none;\n",
              "    border-radius: 50%;\n",
              "    cursor: pointer;\n",
              "    display: none;\n",
              "    fill: #1967D2;\n",
              "    height: 32px;\n",
              "    padding: 0 0 0 0;\n",
              "    width: 32px;\n",
              "  }\n",
              "\n",
              "  .colab-df-quickchart:hover {\n",
              "    background-color: #E2EBFA;\n",
              "    box-shadow: 0px 1px 2px rgba(60, 64, 67, 0.3), 0px 1px 3px 1px rgba(60, 64, 67, 0.15);\n",
              "    fill: #174EA6;\n",
              "  }\n",
              "\n",
              "  [theme=dark] .colab-df-quickchart {\n",
              "    background-color: #3B4455;\n",
              "    fill: #D2E3FC;\n",
              "  }\n",
              "\n",
              "  [theme=dark] .colab-df-quickchart:hover {\n",
              "    background-color: #434B5C;\n",
              "    box-shadow: 0px 1px 3px 1px rgba(0, 0, 0, 0.15);\n",
              "    filter: drop-shadow(0px 1px 2px rgba(0, 0, 0, 0.3));\n",
              "    fill: #FFFFFF;\n",
              "  }\n",
              "</style>\n",
              "\n",
              "    <script>\n",
              "      async function quickchart(key) {\n",
              "        const containerElement = document.querySelector('#' + key);\n",
              "        const charts = await google.colab.kernel.invokeFunction(\n",
              "            'suggestCharts', [key], {});\n",
              "      }\n",
              "    </script>\n",
              "\n",
              "      <script>\n",
              "\n",
              "function displayQuickchartButton(domScope) {\n",
              "  let quickchartButtonEl =\n",
              "    domScope.querySelector('#df-6453686a-60bd-4fc9-9246-5f38fece5034 button.colab-df-quickchart');\n",
              "  quickchartButtonEl.style.display =\n",
              "    google.colab.kernel.accessAllowed ? 'block' : 'none';\n",
              "}\n",
              "\n",
              "        displayQuickchartButton(document);\n",
              "      </script>\n",
              "      <style>\n",
              "    .colab-df-container {\n",
              "      display:flex;\n",
              "      flex-wrap:wrap;\n",
              "      gap: 12px;\n",
              "    }\n",
              "\n",
              "    .colab-df-convert {\n",
              "      background-color: #E8F0FE;\n",
              "      border: none;\n",
              "      border-radius: 50%;\n",
              "      cursor: pointer;\n",
              "      display: none;\n",
              "      fill: #1967D2;\n",
              "      height: 32px;\n",
              "      padding: 0 0 0 0;\n",
              "      width: 32px;\n",
              "    }\n",
              "\n",
              "    .colab-df-convert:hover {\n",
              "      background-color: #E2EBFA;\n",
              "      box-shadow: 0px 1px 2px rgba(60, 64, 67, 0.3), 0px 1px 3px 1px rgba(60, 64, 67, 0.15);\n",
              "      fill: #174EA6;\n",
              "    }\n",
              "\n",
              "    [theme=dark] .colab-df-convert {\n",
              "      background-color: #3B4455;\n",
              "      fill: #D2E3FC;\n",
              "    }\n",
              "\n",
              "    [theme=dark] .colab-df-convert:hover {\n",
              "      background-color: #434B5C;\n",
              "      box-shadow: 0px 1px 3px 1px rgba(0, 0, 0, 0.15);\n",
              "      filter: drop-shadow(0px 1px 2px rgba(0, 0, 0, 0.3));\n",
              "      fill: #FFFFFF;\n",
              "    }\n",
              "  </style>\n",
              "\n",
              "      <script>\n",
              "        const buttonEl =\n",
              "          document.querySelector('#df-4b307f95-47c5-4c6b-8966-5d151a538828 button.colab-df-convert');\n",
              "        buttonEl.style.display =\n",
              "          google.colab.kernel.accessAllowed ? 'block' : 'none';\n",
              "\n",
              "        async function convertToInteractive(key) {\n",
              "          const element = document.querySelector('#df-4b307f95-47c5-4c6b-8966-5d151a538828');\n",
              "          const dataTable =\n",
              "            await google.colab.kernel.invokeFunction('convertToInteractive',\n",
              "                                                     [key], {});\n",
              "          if (!dataTable) return;\n",
              "\n",
              "          const docLinkHtml = 'Like what you see? Visit the ' +\n",
              "            '<a target=\"_blank\" href=https://colab.research.google.com/notebooks/data_table.ipynb>data table notebook</a>'\n",
              "            + ' to learn more about interactive tables.';\n",
              "          element.innerHTML = '';\n",
              "          dataTable['output_type'] = 'display_data';\n",
              "          await google.colab.output.renderOutput(dataTable, element);\n",
              "          const docLink = document.createElement('div');\n",
              "          docLink.innerHTML = docLinkHtml;\n",
              "          element.appendChild(docLink);\n",
              "        }\n",
              "      </script>\n",
              "    </div>\n",
              "  </div>\n"
            ]
          },
          "metadata": {},
          "execution_count": 4
        }
      ]
    },
    {
      "cell_type": "markdown",
      "source": [
        "## Split the dataset"
      ],
      "metadata": {
        "id": "hZpMUrRaqbsz"
      }
    },
    {
      "cell_type": "markdown",
      "source": [
        "The dataset was provided contains a high number of target columns that are empty. We will remove empty columns and only labeled data will remain."
      ],
      "metadata": {
        "id": "aozhmxPxsOqB"
      }
    },
    {
      "cell_type": "code",
      "source": [
        "# Imports\n",
        "from sklearn.model_selection import train_test_split"
      ],
      "metadata": {
        "id": "LhaLBG-7wdgc"
      },
      "execution_count": null,
      "outputs": []
    },
    {
      "cell_type": "code",
      "source": [
        "# Get the column names starting with 'TARGET_'\n",
        "target_columns = [col for col in df.columns if col.startswith('TARGET_')]"
      ],
      "metadata": {
        "id": "Gjrf-y0VxY_M"
      },
      "execution_count": null,
      "outputs": []
    },
    {
      "cell_type": "code",
      "source": [
        "# Drop rows with null values in target columns\n",
        "df_labeled = df.dropna(subset=target_columns)"
      ],
      "metadata": {
        "id": "TW1S3LgWxbVT"
      },
      "execution_count": null,
      "outputs": []
    },
    {
      "cell_type": "code",
      "source": [
        "df_labeled.shape"
      ],
      "metadata": {
        "colab": {
          "base_uri": "https://localhost:8080/"
        },
        "id": "5ITVDImfsbzo",
        "outputId": "0b0b9eee-873b-4b2f-fe64-235d8cd47cde"
      },
      "execution_count": null,
      "outputs": [
        {
          "output_type": "execute_result",
          "data": {
            "text/plain": [
              "(12158, 26)"
            ]
          },
          "metadata": {},
          "execution_count": 8
        }
      ]
    },
    {
      "cell_type": "code",
      "source": [
        "# To be able to tokenize the data we will convert all columns to string type\n",
        "df_labeled = df_labeled.astype(str)"
      ],
      "metadata": {
        "id": "7Qyl4CyX2MK7"
      },
      "execution_count": null,
      "outputs": []
    },
    {
      "cell_type": "code",
      "source": [
        "# Split the DataFrame into features (X) and target (y) data\n",
        "X = df_labeled.drop(target_columns, axis=1)\n",
        "y = df_labeled[target_columns]\n",
        "\n",
        "# Perform stratified train-test split on the temporary DataFrame\n",
        "X_train, X_test, y_train, y_test = train_test_split(X, y, test_size=0.2, random_state=42)"
      ],
      "metadata": {
        "id": "R0M7OMxIwPDc"
      },
      "execution_count": null,
      "outputs": []
    },
    {
      "cell_type": "code",
      "source": [
        "import sklearn\n",
        "print(sklearn.__version__)\n"
      ],
      "metadata": {
        "colab": {
          "base_uri": "https://localhost:8080/"
        },
        "id": "jdhmjA-STRze",
        "outputId": "e993e23e-4d8f-4777-c4f5-4669dbe4ea9a"
      },
      "execution_count": null,
      "outputs": [
        {
          "output_type": "stream",
          "name": "stdout",
          "text": [
            "1.2.2\n"
          ]
        }
      ]
    },
    {
      "cell_type": "code",
      "source": [
        "# Print the sizes of the train, test, and validation sets\n",
        "print('Train size:', len(X_train))\n",
        "print('Test size:', len(X_test))"
      ],
      "metadata": {
        "colab": {
          "base_uri": "https://localhost:8080/"
        },
        "id": "5cMSNkxZ07bU",
        "outputId": "9a3ca6c6-521c-4891-8782-8132fa3d3d51"
      },
      "execution_count": null,
      "outputs": [
        {
          "output_type": "stream",
          "name": "stdout",
          "text": [
            "Train size: 9726\n",
            "Test size: 2432\n"
          ]
        }
      ]
    },
    {
      "cell_type": "code",
      "source": [
        "X_train.head()"
      ],
      "metadata": {
        "colab": {
          "base_uri": "https://localhost:8080/",
          "height": 423
        },
        "id": "pq2IozqnZFpV",
        "outputId": "0c0f881a-3a71-4238-d71a-32ea10d2d012"
      },
      "execution_count": null,
      "outputs": [
        {
          "output_type": "execute_result",
          "data": {
            "text/plain": [
              "      STORE_CHAIN          UPC                                 DESCRIPTION_1  \\\n",
              "24020      SOBEYS   6900014736        MOUNTDEW SUPERNOVA 591 ML - 6900014736   \n",
              "38082         SDM  67000004971  POWERADE MIXED BERRY 591M 6PK (067000004971)   \n",
              "19409  OVERWAITEA   6700010124       Fruitopia The Grapebeyond     Gb 473 Ml   \n",
              "17949   FED CO-OP   6700000392              COCA-COLA HOLIDAY ORB BTL  400ML   \n",
              "19062       METRO   6700000946         Powerade blue ras.0sugar sp.drk 710ml   \n",
              "\n",
              "                             DESCRIPTION_2 DIST  \\\n",
              "24020  IC - OTHER FLAVOURED SODA - REGULAR  nan   \n",
              "38082                       POWERADE DRINK  nan   \n",
              "19409                  Flvr Soft Drink Can  nan   \n",
              "17949          SOFT DRINKS-COCA COLA 400ML  nan   \n",
              "19062                                  nan  nan   \n",
              "\n",
              "                              MANUFACTURER            PRODUCT SIZE_ML COUNT  \\\n",
              "24020                              PEPSICO                nan     591   nan   \n",
              "38082                                  nan                nan       6   nan   \n",
              "19409                 Acquisition Supplier  Acquisition Brand   473ml   nan   \n",
              "17949                                  nan                nan   400ML   nan   \n",
              "19062  COMPAGNIE D`EMBOUTEILLAGE COCA-COLA                nan     nan   nan   \n",
              "\n",
              "            SALES      UNITS   PRICE                            CATEGORY  \n",
              "24020          23         10    2.33   30-14-07 - CARBONATED SOFT DRINKS  \n",
              "38082   1,554,196    290,116    5.36                     OTHER BEVERAGES  \n",
              "19409           3          2    1.50                             Grocery  \n",
              "17949      17,031     23,677    0.72               SOFT DRINKS-COCA-COLA  \n",
              "19062     318,095    256,902    1.24          Isotonic juices and drinks  "
            ],
            "text/html": [
              "\n",
              "\n",
              "  <div id=\"df-d037a12a-d4df-440c-b8dc-2f830318cd9a\">\n",
              "    <div class=\"colab-df-container\">\n",
              "      <div>\n",
              "<style scoped>\n",
              "    .dataframe tbody tr th:only-of-type {\n",
              "        vertical-align: middle;\n",
              "    }\n",
              "\n",
              "    .dataframe tbody tr th {\n",
              "        vertical-align: top;\n",
              "    }\n",
              "\n",
              "    .dataframe thead th {\n",
              "        text-align: right;\n",
              "    }\n",
              "</style>\n",
              "<table border=\"1\" class=\"dataframe\">\n",
              "  <thead>\n",
              "    <tr style=\"text-align: right;\">\n",
              "      <th></th>\n",
              "      <th>STORE_CHAIN</th>\n",
              "      <th>UPC</th>\n",
              "      <th>DESCRIPTION_1</th>\n",
              "      <th>DESCRIPTION_2</th>\n",
              "      <th>DIST</th>\n",
              "      <th>MANUFACTURER</th>\n",
              "      <th>PRODUCT</th>\n",
              "      <th>SIZE_ML</th>\n",
              "      <th>COUNT</th>\n",
              "      <th>SALES</th>\n",
              "      <th>UNITS</th>\n",
              "      <th>PRICE</th>\n",
              "      <th>CATEGORY</th>\n",
              "    </tr>\n",
              "  </thead>\n",
              "  <tbody>\n",
              "    <tr>\n",
              "      <th>24020</th>\n",
              "      <td>SOBEYS</td>\n",
              "      <td>6900014736</td>\n",
              "      <td>MOUNTDEW SUPERNOVA 591 ML - 6900014736</td>\n",
              "      <td>IC - OTHER FLAVOURED SODA - REGULAR</td>\n",
              "      <td>nan</td>\n",
              "      <td>PEPSICO</td>\n",
              "      <td>nan</td>\n",
              "      <td>591</td>\n",
              "      <td>nan</td>\n",
              "      <td>23</td>\n",
              "      <td>10</td>\n",
              "      <td>2.33</td>\n",
              "      <td>30-14-07 - CARBONATED SOFT DRINKS</td>\n",
              "    </tr>\n",
              "    <tr>\n",
              "      <th>38082</th>\n",
              "      <td>SDM</td>\n",
              "      <td>67000004971</td>\n",
              "      <td>POWERADE MIXED BERRY 591M 6PK (067000004971)</td>\n",
              "      <td>POWERADE DRINK</td>\n",
              "      <td>nan</td>\n",
              "      <td>nan</td>\n",
              "      <td>nan</td>\n",
              "      <td>6</td>\n",
              "      <td>nan</td>\n",
              "      <td>1,554,196</td>\n",
              "      <td>290,116</td>\n",
              "      <td>5.36</td>\n",
              "      <td>OTHER BEVERAGES</td>\n",
              "    </tr>\n",
              "    <tr>\n",
              "      <th>19409</th>\n",
              "      <td>OVERWAITEA</td>\n",
              "      <td>6700010124</td>\n",
              "      <td>Fruitopia The Grapebeyond     Gb 473 Ml</td>\n",
              "      <td>Flvr Soft Drink Can</td>\n",
              "      <td>nan</td>\n",
              "      <td>Acquisition Supplier</td>\n",
              "      <td>Acquisition Brand</td>\n",
              "      <td>473ml</td>\n",
              "      <td>nan</td>\n",
              "      <td>3</td>\n",
              "      <td>2</td>\n",
              "      <td>1.50</td>\n",
              "      <td>Grocery</td>\n",
              "    </tr>\n",
              "    <tr>\n",
              "      <th>17949</th>\n",
              "      <td>FED CO-OP</td>\n",
              "      <td>6700000392</td>\n",
              "      <td>COCA-COLA HOLIDAY ORB BTL  400ML</td>\n",
              "      <td>SOFT DRINKS-COCA COLA 400ML</td>\n",
              "      <td>nan</td>\n",
              "      <td>nan</td>\n",
              "      <td>nan</td>\n",
              "      <td>400ML</td>\n",
              "      <td>nan</td>\n",
              "      <td>17,031</td>\n",
              "      <td>23,677</td>\n",
              "      <td>0.72</td>\n",
              "      <td>SOFT DRINKS-COCA-COLA</td>\n",
              "    </tr>\n",
              "    <tr>\n",
              "      <th>19062</th>\n",
              "      <td>METRO</td>\n",
              "      <td>6700000946</td>\n",
              "      <td>Powerade blue ras.0sugar sp.drk 710ml</td>\n",
              "      <td>nan</td>\n",
              "      <td>nan</td>\n",
              "      <td>COMPAGNIE D`EMBOUTEILLAGE COCA-COLA</td>\n",
              "      <td>nan</td>\n",
              "      <td>nan</td>\n",
              "      <td>nan</td>\n",
              "      <td>318,095</td>\n",
              "      <td>256,902</td>\n",
              "      <td>1.24</td>\n",
              "      <td>Isotonic juices and drinks</td>\n",
              "    </tr>\n",
              "  </tbody>\n",
              "</table>\n",
              "</div>\n",
              "      <button class=\"colab-df-convert\" onclick=\"convertToInteractive('df-d037a12a-d4df-440c-b8dc-2f830318cd9a')\"\n",
              "              title=\"Convert this dataframe to an interactive table.\"\n",
              "              style=\"display:none;\">\n",
              "\n",
              "  <svg xmlns=\"http://www.w3.org/2000/svg\" height=\"24px\"viewBox=\"0 0 24 24\"\n",
              "       width=\"24px\">\n",
              "    <path d=\"M0 0h24v24H0V0z\" fill=\"none\"/>\n",
              "    <path d=\"M18.56 5.44l.94 2.06.94-2.06 2.06-.94-2.06-.94-.94-2.06-.94 2.06-2.06.94zm-11 1L8.5 8.5l.94-2.06 2.06-.94-2.06-.94L8.5 2.5l-.94 2.06-2.06.94zm10 10l.94 2.06.94-2.06 2.06-.94-2.06-.94-.94-2.06-.94 2.06-2.06.94z\"/><path d=\"M17.41 7.96l-1.37-1.37c-.4-.4-.92-.59-1.43-.59-.52 0-1.04.2-1.43.59L10.3 9.45l-7.72 7.72c-.78.78-.78 2.05 0 2.83L4 21.41c.39.39.9.59 1.41.59.51 0 1.02-.2 1.41-.59l7.78-7.78 2.81-2.81c.8-.78.8-2.07 0-2.86zM5.41 20L4 18.59l7.72-7.72 1.47 1.35L5.41 20z\"/>\n",
              "  </svg>\n",
              "      </button>\n",
              "\n",
              "\n",
              "\n",
              "    <div id=\"df-b42b3153-a1f6-4b79-8f64-1009d5c76110\">\n",
              "      <button class=\"colab-df-quickchart\" onclick=\"quickchart('df-b42b3153-a1f6-4b79-8f64-1009d5c76110')\"\n",
              "              title=\"Suggest charts.\"\n",
              "              style=\"display:none;\">\n",
              "\n",
              "<svg xmlns=\"http://www.w3.org/2000/svg\" height=\"24px\"viewBox=\"0 0 24 24\"\n",
              "     width=\"24px\">\n",
              "    <g>\n",
              "        <path d=\"M19 3H5c-1.1 0-2 .9-2 2v14c0 1.1.9 2 2 2h14c1.1 0 2-.9 2-2V5c0-1.1-.9-2-2-2zM9 17H7v-7h2v7zm4 0h-2V7h2v10zm4 0h-2v-4h2v4z\"/>\n",
              "    </g>\n",
              "</svg>\n",
              "      </button>\n",
              "    </div>\n",
              "\n",
              "<style>\n",
              "  .colab-df-quickchart {\n",
              "    background-color: #E8F0FE;\n",
              "    border: none;\n",
              "    border-radius: 50%;\n",
              "    cursor: pointer;\n",
              "    display: none;\n",
              "    fill: #1967D2;\n",
              "    height: 32px;\n",
              "    padding: 0 0 0 0;\n",
              "    width: 32px;\n",
              "  }\n",
              "\n",
              "  .colab-df-quickchart:hover {\n",
              "    background-color: #E2EBFA;\n",
              "    box-shadow: 0px 1px 2px rgba(60, 64, 67, 0.3), 0px 1px 3px 1px rgba(60, 64, 67, 0.15);\n",
              "    fill: #174EA6;\n",
              "  }\n",
              "\n",
              "  [theme=dark] .colab-df-quickchart {\n",
              "    background-color: #3B4455;\n",
              "    fill: #D2E3FC;\n",
              "  }\n",
              "\n",
              "  [theme=dark] .colab-df-quickchart:hover {\n",
              "    background-color: #434B5C;\n",
              "    box-shadow: 0px 1px 3px 1px rgba(0, 0, 0, 0.15);\n",
              "    filter: drop-shadow(0px 1px 2px rgba(0, 0, 0, 0.3));\n",
              "    fill: #FFFFFF;\n",
              "  }\n",
              "</style>\n",
              "\n",
              "    <script>\n",
              "      async function quickchart(key) {\n",
              "        const containerElement = document.querySelector('#' + key);\n",
              "        const charts = await google.colab.kernel.invokeFunction(\n",
              "            'suggestCharts', [key], {});\n",
              "      }\n",
              "    </script>\n",
              "\n",
              "      <script>\n",
              "\n",
              "function displayQuickchartButton(domScope) {\n",
              "  let quickchartButtonEl =\n",
              "    domScope.querySelector('#df-b42b3153-a1f6-4b79-8f64-1009d5c76110 button.colab-df-quickchart');\n",
              "  quickchartButtonEl.style.display =\n",
              "    google.colab.kernel.accessAllowed ? 'block' : 'none';\n",
              "}\n",
              "\n",
              "        displayQuickchartButton(document);\n",
              "      </script>\n",
              "      <style>\n",
              "    .colab-df-container {\n",
              "      display:flex;\n",
              "      flex-wrap:wrap;\n",
              "      gap: 12px;\n",
              "    }\n",
              "\n",
              "    .colab-df-convert {\n",
              "      background-color: #E8F0FE;\n",
              "      border: none;\n",
              "      border-radius: 50%;\n",
              "      cursor: pointer;\n",
              "      display: none;\n",
              "      fill: #1967D2;\n",
              "      height: 32px;\n",
              "      padding: 0 0 0 0;\n",
              "      width: 32px;\n",
              "    }\n",
              "\n",
              "    .colab-df-convert:hover {\n",
              "      background-color: #E2EBFA;\n",
              "      box-shadow: 0px 1px 2px rgba(60, 64, 67, 0.3), 0px 1px 3px 1px rgba(60, 64, 67, 0.15);\n",
              "      fill: #174EA6;\n",
              "    }\n",
              "\n",
              "    [theme=dark] .colab-df-convert {\n",
              "      background-color: #3B4455;\n",
              "      fill: #D2E3FC;\n",
              "    }\n",
              "\n",
              "    [theme=dark] .colab-df-convert:hover {\n",
              "      background-color: #434B5C;\n",
              "      box-shadow: 0px 1px 3px 1px rgba(0, 0, 0, 0.15);\n",
              "      filter: drop-shadow(0px 1px 2px rgba(0, 0, 0, 0.3));\n",
              "      fill: #FFFFFF;\n",
              "    }\n",
              "  </style>\n",
              "\n",
              "      <script>\n",
              "        const buttonEl =\n",
              "          document.querySelector('#df-d037a12a-d4df-440c-b8dc-2f830318cd9a button.colab-df-convert');\n",
              "        buttonEl.style.display =\n",
              "          google.colab.kernel.accessAllowed ? 'block' : 'none';\n",
              "\n",
              "        async function convertToInteractive(key) {\n",
              "          const element = document.querySelector('#df-d037a12a-d4df-440c-b8dc-2f830318cd9a');\n",
              "          const dataTable =\n",
              "            await google.colab.kernel.invokeFunction('convertToInteractive',\n",
              "                                                     [key], {});\n",
              "          if (!dataTable) return;\n",
              "\n",
              "          const docLinkHtml = 'Like what you see? Visit the ' +\n",
              "            '<a target=\"_blank\" href=https://colab.research.google.com/notebooks/data_table.ipynb>data table notebook</a>'\n",
              "            + ' to learn more about interactive tables.';\n",
              "          element.innerHTML = '';\n",
              "          dataTable['output_type'] = 'display_data';\n",
              "          await google.colab.output.renderOutput(dataTable, element);\n",
              "          const docLink = document.createElement('div');\n",
              "          docLink.innerHTML = docLinkHtml;\n",
              "          element.appendChild(docLink);\n",
              "        }\n",
              "      </script>\n",
              "    </div>\n",
              "  </div>\n"
            ]
          },
          "metadata": {},
          "execution_count": 13
        }
      ]
    },
    {
      "cell_type": "markdown",
      "source": [
        "## 2. Build the model"
      ],
      "metadata": {
        "id": "JDsPBw8Yoxbm"
      }
    },
    {
      "cell_type": "markdown",
      "source": [
        "### 2.1 Clean dataset\n",
        "\n",
        "Write a function that cleans the dataset by removing non relevant features, removing non relevant characters."
      ],
      "metadata": {
        "id": "eC0IkeN1pU3s"
      }
    },
    {
      "cell_type": "code",
      "source": [
        "# Custom function to replace values with 6 or more digits in the 'text_column'\n",
        "def replace_digits(text):\n",
        "    # Use regular expression to find all sequences of digits (\\d{6,})\n",
        "    # and replace them with a custom string, e.g., ''\n",
        "    new_text = re.sub(r'\\(\\d{7,}\\)', '', str(text))\n",
        "    new_text = re.sub(r'\\d{7,}', '', new_text)\n",
        "    return new_text"
      ],
      "metadata": {
        "id": "qMVncbtY1FRV"
      },
      "execution_count": null,
      "outputs": []
    },
    {
      "cell_type": "code",
      "source": [
        "# Function to replace all non-letter characters with an empty string\n",
        "def replace_non_letters(text):\n",
        "    # Replace all non-letter characters with an empty string\n",
        "    cleaned_text = text.str.replace(r'[^a-zA-Z\\s]', '', regex=True)\n",
        "\n",
        "    # Handle empty or whitespace values and replace with 'UNKNOWN'\n",
        "    cleaned_text = cleaned_text.apply(lambda x: 'UNKNOWN' if x.strip() == '' else x.strip())\n",
        "\n",
        "    return cleaned_text"
      ],
      "metadata": {
        "id": "yDL1ZvnaqArZ"
      },
      "execution_count": null,
      "outputs": []
    },
    {
      "cell_type": "code",
      "source": [
        "def rewrite_presentations(text):\n",
        "  # Get the matches for measure units\n",
        "  matches = re.findall(r'\\d+\\.?\\d+\\s*M*L',text)\n",
        "  if len(matches) > 0:\n",
        "    for m in matches:\n",
        "      new_measure = re.sub(r'\\.0+','',m) # Remove leading zeroes for example 540.000 ML turs into 540 ML\n",
        "      new_measure = re.sub(r'(\\d)([A-Za-z])', r'\\1 \\2', new_measure)\n",
        "      new_measure = re.sub(r'\\s','',new_measure)\n",
        "      text = text.replace(str(m), new_measure)\n",
        "      matches_pack = re.findall(r'\\d+\\s*X\\s*\\d*\\.*\\d+\\s*M*L',text)\n",
        "      if len(matches_pack) > 0:\n",
        "        for mp in matches_pack:\n",
        "          pack_number = str(mp).split('X')[0]\n",
        "          text = re.sub(r''+pack_number+'\\s*X',''+pack_number+'PK ',text)\n",
        "    return text\n",
        "  return text"
      ],
      "metadata": {
        "id": "0ZJ3EbKNuUjA"
      },
      "execution_count": null,
      "outputs": []
    },
    {
      "cell_type": "code",
      "source": [
        "def replace_dot_separated_words(text):\n",
        "  return re.sub(r'(?<=[A-Za-z])\\.(?=[A-Za-z])',' ', text)"
      ],
      "metadata": {
        "id": "n9IcXf8-xM9n"
      },
      "execution_count": null,
      "outputs": []
    },
    {
      "cell_type": "code",
      "source": [
        "def remove_repeated_words(text):\n",
        "    # Use regular expression to find consecutive repeated words\n",
        "    pattern = r'\\b(\\w+)\\s+\\1\\b'\n",
        "\n",
        "    # Replace consecutive repeated words with a single occurrence\n",
        "    cleaned_text = re.sub(pattern, r'\\1', text, flags=re.IGNORECASE)\n",
        "\n",
        "    return cleaned_text"
      ],
      "metadata": {
        "id": "qsMNBZOfXE02"
      },
      "execution_count": null,
      "outputs": []
    },
    {
      "cell_type": "markdown",
      "source": [
        "Use word segementation for handle words that are altogether."
      ],
      "metadata": {
        "id": "WTxQh3dVdHLt"
      }
    },
    {
      "cell_type": "code",
      "source": [
        "def preprocess_dataframe(df):\n",
        "    df.drop(['STORE_CHAIN', 'UPC', 'DIST',\n",
        "        'MANUFACTURER', 'PRODUCT', 'SIZE_ML', 'COUNT', ' SALES ', ' UNITS ',\n",
        "        ' PRICE '], axis=1, inplace=True)\n",
        "    # Convert text to upper for columns that contains text\n",
        "    columns_to_convert = ['DESCRIPTION_1', 'DESCRIPTION_2', 'CATEGORY']\n",
        "    df[columns_to_convert] = df[columns_to_convert].apply(lambda x: x.str.upper())\n",
        "\n",
        "    # Remove UPC that is present in some descriptions.\n",
        "    df['DESCRIPTION_1'] = df['DESCRIPTION_1'].apply(replace_digits)\n",
        "    df['DESCRIPTION_1'] = df['DESCRIPTION_1'].apply(rewrite_presentations)\n",
        "    df['DESCRIPTION_1'] = df['DESCRIPTION_1'].apply(replace_dot_separated_words)\n",
        "    df['DESCRIPTION_1'] = df['DESCRIPTION_1'].apply(remove_repeated_words)\n",
        "\n",
        "    df['DESCRIPTION_2'] = df['DESCRIPTION_2'].apply(replace_digits)\n",
        "    df['DESCRIPTION_2'] = df['DESCRIPTION_2'].apply(rewrite_presentations)\n",
        "    df['DESCRIPTION_2'] = df['DESCRIPTION_2'].apply(replace_dot_separated_words)\n",
        "    df['DESCRIPTION_2'] = df['DESCRIPTION_2'].apply(remove_repeated_words)\n",
        "\n",
        "    # Replace all non digits on CATEGORY column\n",
        "    df['CATEGORY'] = replace_non_letters(df['CATEGORY'])\n",
        "\n",
        "    # Replace acronyms on DESCRIPTION_1\n",
        "    # Rewrite or expand the acronyms in the text\n",
        "    replacement_dict = {\n",
        "        'PPK12':'12PK',\n",
        "        '12PK(1)':'12PK',\n",
        "        'PPK8':'8PK',\n",
        "        'PPK6':'6PK',\n",
        "        'PPK4':'4PK',\n",
        "        'AQFNA':'AQUAFINA',\n",
        "        'SPLSH':'SPLASH',\n",
        "        'SPRKLG':'SPARKLING',\n",
        "        'FLVR':'FLAVOUR',\n",
        "        'FLV':'FLAVOUR',\n",
        "        '-':' ',\n",
        "        '(X)':'',\n",
        "        '/': ' ',\n",
        "\n",
        "    }\n",
        "\n",
        "    # List of columns in which you want to perform the replacement\n",
        "    columns_to_replace_packaging = ['DESCRIPTION_1', 'DESCRIPTION_2']\n",
        "\n",
        "    # Use the replace() method on the specified columns to perform the replacement\n",
        "    df[columns_to_replace_packaging] = df[columns_to_replace_packaging].replace(replacement_dict)\n",
        "    df['DESCRIPTION_1'] = df['DESCRIPTION_1'].str.replace('-',' ')\n",
        "    df['DESCRIPTION_2'] = df['DESCRIPTION_2'].str.replace('-',' ')\n",
        "\n",
        "    return df\n"
      ],
      "metadata": {
        "id": "SGiAotrCmq2n"
      },
      "execution_count": null,
      "outputs": []
    },
    {
      "cell_type": "code",
      "source": [
        "X_train_new = preprocess_dataframe(X_train)"
      ],
      "metadata": {
        "id": "ZXrDeBtWOyky"
      },
      "execution_count": null,
      "outputs": []
    },
    {
      "cell_type": "code",
      "source": [
        "X_test_new = preprocess_dataframe(X_test)"
      ],
      "metadata": {
        "id": "l0kz8W8oZKTq"
      },
      "execution_count": null,
      "outputs": []
    },
    {
      "cell_type": "markdown",
      "source": [
        "### 2.2 Tokenize text data\n",
        "\n",
        "Since columns represent different types of textual information (e.g., one column contains product description, another contains product presentations), using separate tokenizers for each column may be beneficial. Separate tokenizers can capture different vocabularies and tailor the tokenization process to the specific semantics of each column."
      ],
      "metadata": {
        "id": "rybdx7I-pxw6"
      }
    },
    {
      "cell_type": "code",
      "source": [
        "# Imports\n",
        "from keras.preprocessing.text import Tokenizer\n",
        "from keras.utils import pad_sequences"
      ],
      "metadata": {
        "id": "K9gn35iuUrtS"
      },
      "execution_count": null,
      "outputs": []
    },
    {
      "cell_type": "code",
      "source": [
        "# Extract the columns that start with \"TARGET_\"\n",
        "target_columns = [col for col in df.columns if col.startswith('TARGET_')]"
      ],
      "metadata": {
        "id": "QIZ3TazOpPD7"
      },
      "execution_count": null,
      "outputs": []
    },
    {
      "cell_type": "code",
      "source": [
        "# Extract the input columns (all columns except those that start with \"TARGET_\")\n",
        "input_columns = X_train_new.columns"
      ],
      "metadata": {
        "id": "v-HjatlPqLvm"
      },
      "execution_count": null,
      "outputs": []
    },
    {
      "cell_type": "markdown",
      "source": [
        "#### 2.2.1 Fit to train data"
      ],
      "metadata": {
        "id": "eUS8TkqUVvhC"
      }
    },
    {
      "cell_type": "code",
      "source": [
        "# Tokenize the input text columns\n",
        "max_words = 5000  # Choose the maximum number of words to be used in the vocabulary\n",
        "tokenizer = Tokenizer(num_words=max_words)\n",
        "tokenizer.fit_on_texts(X_train_new.values.flatten())"
      ],
      "metadata": {
        "id": "X8Tlr3z1U2px"
      },
      "execution_count": null,
      "outputs": []
    },
    {
      "cell_type": "markdown",
      "source": [
        "#### 2.2.2 Save the tokenizer for future usage\n",
        "To save a Keras tokenizer for future usage, you can use the pickle module in Python, which allows you to serialize Python objects, including the Keras tokenizer, to a file."
      ],
      "metadata": {
        "id": "gAVvnQGLWC9P"
      }
    },
    {
      "cell_type": "code",
      "source": [
        "# imports\n",
        "import pickle"
      ],
      "metadata": {
        "id": "Vd5_hH61VPKb"
      },
      "execution_count": null,
      "outputs": []
    },
    {
      "cell_type": "code",
      "source": [
        "# Save the tokenizer using pickle\n",
        "with open('tokenizer.pickle', 'wb') as handle:\n",
        "    pickle.dump(tokenizer, handle, protocol=pickle.HIGHEST_PROTOCOL)"
      ],
      "metadata": {
        "id": "Ypb8xFY-Wdrz"
      },
      "execution_count": null,
      "outputs": []
    },
    {
      "cell_type": "markdown",
      "source": [
        "The code below shots how to load and use the tokenizer."
      ],
      "metadata": {
        "id": "v1vc0lERWqt6"
      }
    },
    {
      "cell_type": "code",
      "source": [
        "# Later, to load the tokenizer\n",
        "#with open('tokenizer.pickle', 'rb') as handle:\n",
        "#    loaded_tokenizer = pickle.load(handle)"
      ],
      "metadata": {
        "id": "bH5V_konWgxz"
      },
      "execution_count": null,
      "outputs": []
    },
    {
      "cell_type": "code",
      "source": [
        "# Use the loaded tokenizer to tokenize new_texts\n",
        "#sequences = loaded_tokenizer.texts_to_sequences(new_texts)\n",
        "#print(sequences)"
      ],
      "metadata": {
        "id": "lc7boI9FWkhN"
      },
      "execution_count": null,
      "outputs": []
    },
    {
      "cell_type": "markdown",
      "source": [
        "#### 2.2.3 Tokenize training data"
      ],
      "metadata": {
        "id": "ii4HJ_5NY5la"
      }
    },
    {
      "cell_type": "code",
      "source": [
        "X_train_encoded = X_train_new.copy()"
      ],
      "metadata": {
        "id": "c9f0_fk6XTbh"
      },
      "execution_count": null,
      "outputs": []
    },
    {
      "cell_type": "code",
      "source": [
        "for col in input_columns:\n",
        "  X_train_encoded[col] = tokenizer.texts_to_sequences(X_train_encoded[col])\n",
        "X_train_encoded.head(5)"
      ],
      "metadata": {
        "colab": {
          "base_uri": "https://localhost:8080/",
          "height": 206
        },
        "id": "aHdNcm5FXNeK",
        "outputId": "d0e9dc60-291f-4ab7-e65d-4c7fa1d1b883"
      },
      "execution_count": null,
      "outputs": [
        {
          "output_type": "execute_result",
          "data": {
            "text/plain": [
              "                           DESCRIPTION_1         DESCRIPTION_2  \\\n",
              "24020                    [374, 1054, 26]  [51, 25, 91, 18, 30]   \n",
              "38082            [32, 151, 83, 1055, 43]               [32, 8]   \n",
              "19409         [165, 754, 1806, 1807, 34]       [390, 2, 8, 22]   \n",
              "17949       [28, 15, 708, 1808, 88, 588]   [2, 1, 28, 15, 588]   \n",
              "19062  [32, 184, 709, 1809, 188, 70, 39]                   [3]   \n",
              "\n",
              "               CATEGORY  \n",
              "24020         [4, 2, 1]  \n",
              "38082          [25, 11]  \n",
              "19409              [20]  \n",
              "17949           [2, 73]  \n",
              "19062  [181, 19, 14, 1]  "
            ],
            "text/html": [
              "\n",
              "\n",
              "  <div id=\"df-90067cb9-6459-44cb-bd33-b5858756a6cd\">\n",
              "    <div class=\"colab-df-container\">\n",
              "      <div>\n",
              "<style scoped>\n",
              "    .dataframe tbody tr th:only-of-type {\n",
              "        vertical-align: middle;\n",
              "    }\n",
              "\n",
              "    .dataframe tbody tr th {\n",
              "        vertical-align: top;\n",
              "    }\n",
              "\n",
              "    .dataframe thead th {\n",
              "        text-align: right;\n",
              "    }\n",
              "</style>\n",
              "<table border=\"1\" class=\"dataframe\">\n",
              "  <thead>\n",
              "    <tr style=\"text-align: right;\">\n",
              "      <th></th>\n",
              "      <th>DESCRIPTION_1</th>\n",
              "      <th>DESCRIPTION_2</th>\n",
              "      <th>CATEGORY</th>\n",
              "    </tr>\n",
              "  </thead>\n",
              "  <tbody>\n",
              "    <tr>\n",
              "      <th>24020</th>\n",
              "      <td>[374, 1054, 26]</td>\n",
              "      <td>[51, 25, 91, 18, 30]</td>\n",
              "      <td>[4, 2, 1]</td>\n",
              "    </tr>\n",
              "    <tr>\n",
              "      <th>38082</th>\n",
              "      <td>[32, 151, 83, 1055, 43]</td>\n",
              "      <td>[32, 8]</td>\n",
              "      <td>[25, 11]</td>\n",
              "    </tr>\n",
              "    <tr>\n",
              "      <th>19409</th>\n",
              "      <td>[165, 754, 1806, 1807, 34]</td>\n",
              "      <td>[390, 2, 8, 22]</td>\n",
              "      <td>[20]</td>\n",
              "    </tr>\n",
              "    <tr>\n",
              "      <th>17949</th>\n",
              "      <td>[28, 15, 708, 1808, 88, 588]</td>\n",
              "      <td>[2, 1, 28, 15, 588]</td>\n",
              "      <td>[2, 73]</td>\n",
              "    </tr>\n",
              "    <tr>\n",
              "      <th>19062</th>\n",
              "      <td>[32, 184, 709, 1809, 188, 70, 39]</td>\n",
              "      <td>[3]</td>\n",
              "      <td>[181, 19, 14, 1]</td>\n",
              "    </tr>\n",
              "  </tbody>\n",
              "</table>\n",
              "</div>\n",
              "      <button class=\"colab-df-convert\" onclick=\"convertToInteractive('df-90067cb9-6459-44cb-bd33-b5858756a6cd')\"\n",
              "              title=\"Convert this dataframe to an interactive table.\"\n",
              "              style=\"display:none;\">\n",
              "\n",
              "  <svg xmlns=\"http://www.w3.org/2000/svg\" height=\"24px\"viewBox=\"0 0 24 24\"\n",
              "       width=\"24px\">\n",
              "    <path d=\"M0 0h24v24H0V0z\" fill=\"none\"/>\n",
              "    <path d=\"M18.56 5.44l.94 2.06.94-2.06 2.06-.94-2.06-.94-.94-2.06-.94 2.06-2.06.94zm-11 1L8.5 8.5l.94-2.06 2.06-.94-2.06-.94L8.5 2.5l-.94 2.06-2.06.94zm10 10l.94 2.06.94-2.06 2.06-.94-2.06-.94-.94-2.06-.94 2.06-2.06.94z\"/><path d=\"M17.41 7.96l-1.37-1.37c-.4-.4-.92-.59-1.43-.59-.52 0-1.04.2-1.43.59L10.3 9.45l-7.72 7.72c-.78.78-.78 2.05 0 2.83L4 21.41c.39.39.9.59 1.41.59.51 0 1.02-.2 1.41-.59l7.78-7.78 2.81-2.81c.8-.78.8-2.07 0-2.86zM5.41 20L4 18.59l7.72-7.72 1.47 1.35L5.41 20z\"/>\n",
              "  </svg>\n",
              "      </button>\n",
              "\n",
              "\n",
              "\n",
              "    <div id=\"df-40d4ed00-e827-4cd6-a6cc-4c94a2f8832c\">\n",
              "      <button class=\"colab-df-quickchart\" onclick=\"quickchart('df-40d4ed00-e827-4cd6-a6cc-4c94a2f8832c')\"\n",
              "              title=\"Suggest charts.\"\n",
              "              style=\"display:none;\">\n",
              "\n",
              "<svg xmlns=\"http://www.w3.org/2000/svg\" height=\"24px\"viewBox=\"0 0 24 24\"\n",
              "     width=\"24px\">\n",
              "    <g>\n",
              "        <path d=\"M19 3H5c-1.1 0-2 .9-2 2v14c0 1.1.9 2 2 2h14c1.1 0 2-.9 2-2V5c0-1.1-.9-2-2-2zM9 17H7v-7h2v7zm4 0h-2V7h2v10zm4 0h-2v-4h2v4z\"/>\n",
              "    </g>\n",
              "</svg>\n",
              "      </button>\n",
              "    </div>\n",
              "\n",
              "<style>\n",
              "  .colab-df-quickchart {\n",
              "    background-color: #E8F0FE;\n",
              "    border: none;\n",
              "    border-radius: 50%;\n",
              "    cursor: pointer;\n",
              "    display: none;\n",
              "    fill: #1967D2;\n",
              "    height: 32px;\n",
              "    padding: 0 0 0 0;\n",
              "    width: 32px;\n",
              "  }\n",
              "\n",
              "  .colab-df-quickchart:hover {\n",
              "    background-color: #E2EBFA;\n",
              "    box-shadow: 0px 1px 2px rgba(60, 64, 67, 0.3), 0px 1px 3px 1px rgba(60, 64, 67, 0.15);\n",
              "    fill: #174EA6;\n",
              "  }\n",
              "\n",
              "  [theme=dark] .colab-df-quickchart {\n",
              "    background-color: #3B4455;\n",
              "    fill: #D2E3FC;\n",
              "  }\n",
              "\n",
              "  [theme=dark] .colab-df-quickchart:hover {\n",
              "    background-color: #434B5C;\n",
              "    box-shadow: 0px 1px 3px 1px rgba(0, 0, 0, 0.15);\n",
              "    filter: drop-shadow(0px 1px 2px rgba(0, 0, 0, 0.3));\n",
              "    fill: #FFFFFF;\n",
              "  }\n",
              "</style>\n",
              "\n",
              "    <script>\n",
              "      async function quickchart(key) {\n",
              "        const containerElement = document.querySelector('#' + key);\n",
              "        const charts = await google.colab.kernel.invokeFunction(\n",
              "            'suggestCharts', [key], {});\n",
              "      }\n",
              "    </script>\n",
              "\n",
              "      <script>\n",
              "\n",
              "function displayQuickchartButton(domScope) {\n",
              "  let quickchartButtonEl =\n",
              "    domScope.querySelector('#df-40d4ed00-e827-4cd6-a6cc-4c94a2f8832c button.colab-df-quickchart');\n",
              "  quickchartButtonEl.style.display =\n",
              "    google.colab.kernel.accessAllowed ? 'block' : 'none';\n",
              "}\n",
              "\n",
              "        displayQuickchartButton(document);\n",
              "      </script>\n",
              "      <style>\n",
              "    .colab-df-container {\n",
              "      display:flex;\n",
              "      flex-wrap:wrap;\n",
              "      gap: 12px;\n",
              "    }\n",
              "\n",
              "    .colab-df-convert {\n",
              "      background-color: #E8F0FE;\n",
              "      border: none;\n",
              "      border-radius: 50%;\n",
              "      cursor: pointer;\n",
              "      display: none;\n",
              "      fill: #1967D2;\n",
              "      height: 32px;\n",
              "      padding: 0 0 0 0;\n",
              "      width: 32px;\n",
              "    }\n",
              "\n",
              "    .colab-df-convert:hover {\n",
              "      background-color: #E2EBFA;\n",
              "      box-shadow: 0px 1px 2px rgba(60, 64, 67, 0.3), 0px 1px 3px 1px rgba(60, 64, 67, 0.15);\n",
              "      fill: #174EA6;\n",
              "    }\n",
              "\n",
              "    [theme=dark] .colab-df-convert {\n",
              "      background-color: #3B4455;\n",
              "      fill: #D2E3FC;\n",
              "    }\n",
              "\n",
              "    [theme=dark] .colab-df-convert:hover {\n",
              "      background-color: #434B5C;\n",
              "      box-shadow: 0px 1px 3px 1px rgba(0, 0, 0, 0.15);\n",
              "      filter: drop-shadow(0px 1px 2px rgba(0, 0, 0, 0.3));\n",
              "      fill: #FFFFFF;\n",
              "    }\n",
              "  </style>\n",
              "\n",
              "      <script>\n",
              "        const buttonEl =\n",
              "          document.querySelector('#df-90067cb9-6459-44cb-bd33-b5858756a6cd button.colab-df-convert');\n",
              "        buttonEl.style.display =\n",
              "          google.colab.kernel.accessAllowed ? 'block' : 'none';\n",
              "\n",
              "        async function convertToInteractive(key) {\n",
              "          const element = document.querySelector('#df-90067cb9-6459-44cb-bd33-b5858756a6cd');\n",
              "          const dataTable =\n",
              "            await google.colab.kernel.invokeFunction('convertToInteractive',\n",
              "                                                     [key], {});\n",
              "          if (!dataTable) return;\n",
              "\n",
              "          const docLinkHtml = 'Like what you see? Visit the ' +\n",
              "            '<a target=\"_blank\" href=https://colab.research.google.com/notebooks/data_table.ipynb>data table notebook</a>'\n",
              "            + ' to learn more about interactive tables.';\n",
              "          element.innerHTML = '';\n",
              "          dataTable['output_type'] = 'display_data';\n",
              "          await google.colab.output.renderOutput(dataTable, element);\n",
              "          const docLink = document.createElement('div');\n",
              "          docLink.innerHTML = docLinkHtml;\n",
              "          element.appendChild(docLink);\n",
              "        }\n",
              "      </script>\n",
              "    </div>\n",
              "  </div>\n"
            ]
          },
          "metadata": {},
          "execution_count": 31
        }
      ]
    },
    {
      "cell_type": "code",
      "source": [
        "X_train_encoded = np.concatenate((\n",
        "                pad_sequences(X_train_encoded['DESCRIPTION_1'],maxlen=10),\n",
        "                pad_sequences(X_train_encoded['DESCRIPTION_2'],maxlen=10),\n",
        "                pad_sequences(X_train_encoded['CATEGORY'],maxlen=6)\n",
        "                ), axis=1)"
      ],
      "metadata": {
        "id": "r4UbVkOgXCBi"
      },
      "execution_count": null,
      "outputs": []
    },
    {
      "cell_type": "code",
      "source": [
        "X_train_encoded[2]"
      ],
      "metadata": {
        "id": "lO1hM-8wxaSG",
        "colab": {
          "base_uri": "https://localhost:8080/"
        },
        "outputId": "39e98fca-0aa9-408a-9186-ad5c0c6b19a6"
      },
      "execution_count": null,
      "outputs": [
        {
          "output_type": "execute_result",
          "data": {
            "text/plain": [
              "array([   0,    0,    0,    0,    0,  165,  754, 1806, 1807,   34,    0,\n",
              "          0,    0,    0,    0,    0,  390,    2,    8,   22,    0,    0,\n",
              "          0,    0,    0,   20], dtype=int32)"
            ]
          },
          "metadata": {},
          "execution_count": 33
        }
      ]
    },
    {
      "cell_type": "markdown",
      "source": [
        "#### 2.2.4 Tokenize testing data"
      ],
      "metadata": {
        "id": "0RtaHx_LZCiZ"
      }
    },
    {
      "cell_type": "code",
      "source": [
        "X_test_encoded = X_test_new.copy()"
      ],
      "metadata": {
        "id": "b-16npwBZBuX"
      },
      "execution_count": null,
      "outputs": []
    },
    {
      "cell_type": "code",
      "source": [
        "for col in input_columns:\n",
        "  X_test_encoded[col] = tokenizer.texts_to_sequences(X_test_encoded[col])\n",
        "X_test_encoded.head(5)"
      ],
      "metadata": {
        "colab": {
          "base_uri": "https://localhost:8080/",
          "height": 206
        },
        "id": "1TtsuQdjZTZ5",
        "outputId": "f4ba6808-e9af-4732-b3ae-7a40063628f2"
      },
      "execution_count": null,
      "outputs": [
        {
          "output_type": "execute_result",
          "data": {
            "text/plain": [
              "                     DESCRIPTION_1     DESCRIPTION_2    CATEGORY\n",
              "25578              [500, 702, 807]  [500, 702, 1129]    [7, 247]\n",
              "17844     [165, 143, 347, 942, 34]               [3]  [249, 275]\n",
              "25352                    [17, 537]               [3]    [7, 534]\n",
              "23578  [120, 45, 16, 385, 421, 26]  [79, 45, 16, 10]    [23, 11]\n",
              "38052             [32, 29, 48, 26]           [32, 8]    [25, 11]"
            ],
            "text/html": [
              "\n",
              "\n",
              "  <div id=\"df-50b680d2-f3ea-4730-810d-1fb32cdbd69d\">\n",
              "    <div class=\"colab-df-container\">\n",
              "      <div>\n",
              "<style scoped>\n",
              "    .dataframe tbody tr th:only-of-type {\n",
              "        vertical-align: middle;\n",
              "    }\n",
              "\n",
              "    .dataframe tbody tr th {\n",
              "        vertical-align: top;\n",
              "    }\n",
              "\n",
              "    .dataframe thead th {\n",
              "        text-align: right;\n",
              "    }\n",
              "</style>\n",
              "<table border=\"1\" class=\"dataframe\">\n",
              "  <thead>\n",
              "    <tr style=\"text-align: right;\">\n",
              "      <th></th>\n",
              "      <th>DESCRIPTION_1</th>\n",
              "      <th>DESCRIPTION_2</th>\n",
              "      <th>CATEGORY</th>\n",
              "    </tr>\n",
              "  </thead>\n",
              "  <tbody>\n",
              "    <tr>\n",
              "      <th>25578</th>\n",
              "      <td>[500, 702, 807]</td>\n",
              "      <td>[500, 702, 1129]</td>\n",
              "      <td>[7, 247]</td>\n",
              "    </tr>\n",
              "    <tr>\n",
              "      <th>17844</th>\n",
              "      <td>[165, 143, 347, 942, 34]</td>\n",
              "      <td>[3]</td>\n",
              "      <td>[249, 275]</td>\n",
              "    </tr>\n",
              "    <tr>\n",
              "      <th>25352</th>\n",
              "      <td>[17, 537]</td>\n",
              "      <td>[3]</td>\n",
              "      <td>[7, 534]</td>\n",
              "    </tr>\n",
              "    <tr>\n",
              "      <th>23578</th>\n",
              "      <td>[120, 45, 16, 385, 421, 26]</td>\n",
              "      <td>[79, 45, 16, 10]</td>\n",
              "      <td>[23, 11]</td>\n",
              "    </tr>\n",
              "    <tr>\n",
              "      <th>38052</th>\n",
              "      <td>[32, 29, 48, 26]</td>\n",
              "      <td>[32, 8]</td>\n",
              "      <td>[25, 11]</td>\n",
              "    </tr>\n",
              "  </tbody>\n",
              "</table>\n",
              "</div>\n",
              "      <button class=\"colab-df-convert\" onclick=\"convertToInteractive('df-50b680d2-f3ea-4730-810d-1fb32cdbd69d')\"\n",
              "              title=\"Convert this dataframe to an interactive table.\"\n",
              "              style=\"display:none;\">\n",
              "\n",
              "  <svg xmlns=\"http://www.w3.org/2000/svg\" height=\"24px\"viewBox=\"0 0 24 24\"\n",
              "       width=\"24px\">\n",
              "    <path d=\"M0 0h24v24H0V0z\" fill=\"none\"/>\n",
              "    <path d=\"M18.56 5.44l.94 2.06.94-2.06 2.06-.94-2.06-.94-.94-2.06-.94 2.06-2.06.94zm-11 1L8.5 8.5l.94-2.06 2.06-.94-2.06-.94L8.5 2.5l-.94 2.06-2.06.94zm10 10l.94 2.06.94-2.06 2.06-.94-2.06-.94-.94-2.06-.94 2.06-2.06.94z\"/><path d=\"M17.41 7.96l-1.37-1.37c-.4-.4-.92-.59-1.43-.59-.52 0-1.04.2-1.43.59L10.3 9.45l-7.72 7.72c-.78.78-.78 2.05 0 2.83L4 21.41c.39.39.9.59 1.41.59.51 0 1.02-.2 1.41-.59l7.78-7.78 2.81-2.81c.8-.78.8-2.07 0-2.86zM5.41 20L4 18.59l7.72-7.72 1.47 1.35L5.41 20z\"/>\n",
              "  </svg>\n",
              "      </button>\n",
              "\n",
              "\n",
              "\n",
              "    <div id=\"df-c1844d77-f21a-41d5-8dab-6150f8a8f977\">\n",
              "      <button class=\"colab-df-quickchart\" onclick=\"quickchart('df-c1844d77-f21a-41d5-8dab-6150f8a8f977')\"\n",
              "              title=\"Suggest charts.\"\n",
              "              style=\"display:none;\">\n",
              "\n",
              "<svg xmlns=\"http://www.w3.org/2000/svg\" height=\"24px\"viewBox=\"0 0 24 24\"\n",
              "     width=\"24px\">\n",
              "    <g>\n",
              "        <path d=\"M19 3H5c-1.1 0-2 .9-2 2v14c0 1.1.9 2 2 2h14c1.1 0 2-.9 2-2V5c0-1.1-.9-2-2-2zM9 17H7v-7h2v7zm4 0h-2V7h2v10zm4 0h-2v-4h2v4z\"/>\n",
              "    </g>\n",
              "</svg>\n",
              "      </button>\n",
              "    </div>\n",
              "\n",
              "<style>\n",
              "  .colab-df-quickchart {\n",
              "    background-color: #E8F0FE;\n",
              "    border: none;\n",
              "    border-radius: 50%;\n",
              "    cursor: pointer;\n",
              "    display: none;\n",
              "    fill: #1967D2;\n",
              "    height: 32px;\n",
              "    padding: 0 0 0 0;\n",
              "    width: 32px;\n",
              "  }\n",
              "\n",
              "  .colab-df-quickchart:hover {\n",
              "    background-color: #E2EBFA;\n",
              "    box-shadow: 0px 1px 2px rgba(60, 64, 67, 0.3), 0px 1px 3px 1px rgba(60, 64, 67, 0.15);\n",
              "    fill: #174EA6;\n",
              "  }\n",
              "\n",
              "  [theme=dark] .colab-df-quickchart {\n",
              "    background-color: #3B4455;\n",
              "    fill: #D2E3FC;\n",
              "  }\n",
              "\n",
              "  [theme=dark] .colab-df-quickchart:hover {\n",
              "    background-color: #434B5C;\n",
              "    box-shadow: 0px 1px 3px 1px rgba(0, 0, 0, 0.15);\n",
              "    filter: drop-shadow(0px 1px 2px rgba(0, 0, 0, 0.3));\n",
              "    fill: #FFFFFF;\n",
              "  }\n",
              "</style>\n",
              "\n",
              "    <script>\n",
              "      async function quickchart(key) {\n",
              "        const containerElement = document.querySelector('#' + key);\n",
              "        const charts = await google.colab.kernel.invokeFunction(\n",
              "            'suggestCharts', [key], {});\n",
              "      }\n",
              "    </script>\n",
              "\n",
              "      <script>\n",
              "\n",
              "function displayQuickchartButton(domScope) {\n",
              "  let quickchartButtonEl =\n",
              "    domScope.querySelector('#df-c1844d77-f21a-41d5-8dab-6150f8a8f977 button.colab-df-quickchart');\n",
              "  quickchartButtonEl.style.display =\n",
              "    google.colab.kernel.accessAllowed ? 'block' : 'none';\n",
              "}\n",
              "\n",
              "        displayQuickchartButton(document);\n",
              "      </script>\n",
              "      <style>\n",
              "    .colab-df-container {\n",
              "      display:flex;\n",
              "      flex-wrap:wrap;\n",
              "      gap: 12px;\n",
              "    }\n",
              "\n",
              "    .colab-df-convert {\n",
              "      background-color: #E8F0FE;\n",
              "      border: none;\n",
              "      border-radius: 50%;\n",
              "      cursor: pointer;\n",
              "      display: none;\n",
              "      fill: #1967D2;\n",
              "      height: 32px;\n",
              "      padding: 0 0 0 0;\n",
              "      width: 32px;\n",
              "    }\n",
              "\n",
              "    .colab-df-convert:hover {\n",
              "      background-color: #E2EBFA;\n",
              "      box-shadow: 0px 1px 2px rgba(60, 64, 67, 0.3), 0px 1px 3px 1px rgba(60, 64, 67, 0.15);\n",
              "      fill: #174EA6;\n",
              "    }\n",
              "\n",
              "    [theme=dark] .colab-df-convert {\n",
              "      background-color: #3B4455;\n",
              "      fill: #D2E3FC;\n",
              "    }\n",
              "\n",
              "    [theme=dark] .colab-df-convert:hover {\n",
              "      background-color: #434B5C;\n",
              "      box-shadow: 0px 1px 3px 1px rgba(0, 0, 0, 0.15);\n",
              "      filter: drop-shadow(0px 1px 2px rgba(0, 0, 0, 0.3));\n",
              "      fill: #FFFFFF;\n",
              "    }\n",
              "  </style>\n",
              "\n",
              "      <script>\n",
              "        const buttonEl =\n",
              "          document.querySelector('#df-50b680d2-f3ea-4730-810d-1fb32cdbd69d button.colab-df-convert');\n",
              "        buttonEl.style.display =\n",
              "          google.colab.kernel.accessAllowed ? 'block' : 'none';\n",
              "\n",
              "        async function convertToInteractive(key) {\n",
              "          const element = document.querySelector('#df-50b680d2-f3ea-4730-810d-1fb32cdbd69d');\n",
              "          const dataTable =\n",
              "            await google.colab.kernel.invokeFunction('convertToInteractive',\n",
              "                                                     [key], {});\n",
              "          if (!dataTable) return;\n",
              "\n",
              "          const docLinkHtml = 'Like what you see? Visit the ' +\n",
              "            '<a target=\"_blank\" href=https://colab.research.google.com/notebooks/data_table.ipynb>data table notebook</a>'\n",
              "            + ' to learn more about interactive tables.';\n",
              "          element.innerHTML = '';\n",
              "          dataTable['output_type'] = 'display_data';\n",
              "          await google.colab.output.renderOutput(dataTable, element);\n",
              "          const docLink = document.createElement('div');\n",
              "          docLink.innerHTML = docLinkHtml;\n",
              "          element.appendChild(docLink);\n",
              "        }\n",
              "      </script>\n",
              "    </div>\n",
              "  </div>\n"
            ]
          },
          "metadata": {},
          "execution_count": 35
        }
      ]
    },
    {
      "cell_type": "code",
      "source": [
        "X_test_encoded = np.concatenate((\n",
        "                pad_sequences(X_test_encoded['DESCRIPTION_1'],maxlen=10),\n",
        "                pad_sequences(X_test_encoded['DESCRIPTION_2'],maxlen=10),\n",
        "                pad_sequences(X_test_encoded['CATEGORY'],maxlen=6)\n",
        "                ), axis=1)"
      ],
      "metadata": {
        "id": "CxV2f910ZaWW"
      },
      "execution_count": null,
      "outputs": []
    },
    {
      "cell_type": "code",
      "source": [
        "X_test.iloc[0]"
      ],
      "metadata": {
        "colab": {
          "base_uri": "https://localhost:8080/"
        },
        "id": "PxBHyfkYZiFu",
        "outputId": "6d77cb30-41ae-407f-9602-40869b06a3d4"
      },
      "execution_count": null,
      "outputs": [
        {
          "output_type": "execute_result",
          "data": {
            "text/plain": [
              "DESCRIPTION_1           MST MULE GIN\n",
              "DESCRIPTION_2     MST MULE GINGERADE\n",
              "CATEGORY         ENERGY DRINKSINGLES\n",
              "Name: 25578, dtype: object"
            ]
          },
          "metadata": {},
          "execution_count": 37
        }
      ]
    },
    {
      "cell_type": "code",
      "source": [
        "X_test_encoded[0]"
      ],
      "metadata": {
        "colab": {
          "base_uri": "https://localhost:8080/"
        },
        "id": "g6WaYXkVZelW",
        "outputId": "6eb2f2ad-4eb8-4943-a63e-a7755d71af6a"
      },
      "execution_count": null,
      "outputs": [
        {
          "output_type": "execute_result",
          "data": {
            "text/plain": [
              "array([   0,    0,    0,    0,    0,    0,    0,  500,  702,  807,    0,\n",
              "          0,    0,    0,    0,    0,    0,  500,  702, 1129,    0,    0,\n",
              "          0,    0,    7,  247], dtype=int32)"
            ]
          },
          "metadata": {},
          "execution_count": 38
        }
      ]
    },
    {
      "cell_type": "markdown",
      "source": [
        "### 2.3 Encode targets"
      ],
      "metadata": {
        "id": "CpoffVNBYw7q"
      }
    },
    {
      "cell_type": "code",
      "source": [
        "target_columns"
      ],
      "metadata": {
        "colab": {
          "base_uri": "https://localhost:8080/"
        },
        "id": "FPb21HXbMT_P",
        "outputId": "dcbb1cec-9ef9-4498-dea7-213f5a3a3e5d"
      },
      "execution_count": null,
      "outputs": [
        {
          "output_type": "execute_result",
          "data": {
            "text/plain": [
              "['TARGET_TPO_PRODUCT_NAME',\n",
              " 'TARGET_MANUFACTURER',\n",
              " 'TARGET_BRAND',\n",
              " 'TARGET_SIZE_ML',\n",
              " 'TARGET_COUNT',\n",
              " 'TARGET_PACK_CONTENT',\n",
              " 'TARGET_PACK_TYPE',\n",
              " 'TARGET_PACK_SUBTYPE',\n",
              " 'TARGET_CATEGORY',\n",
              " 'TARGET_TYPE',\n",
              " 'TARGET_SWEETNER',\n",
              " 'TARGET_FLAVOUR',\n",
              " 'TARGET_FLAVOUR_GROUPED']"
            ]
          },
          "metadata": {},
          "execution_count": 39
        }
      ]
    },
    {
      "cell_type": "code",
      "source": [
        "y_train_PACK_TYPE = y_train['TARGET_PACK_TYPE']\n",
        "y_train_PACK_SUBTYPE = y_train['TARGET_PACK_SUBTYPE']\n",
        "y_train_PACK_CONTENT = y_train['TARGET_PACK_CONTENT']\n",
        "\n",
        "y_test_PACK_TYPE = y_test['TARGET_PACK_TYPE']\n",
        "y_test_PACK_SUBTYPE = y_test['TARGET_PACK_SUBTYPE']\n",
        "y_test_PACK_CONTENT = y_test['TARGET_PACK_CONTENT']"
      ],
      "metadata": {
        "id": "2A_6WcAAabAx"
      },
      "execution_count": null,
      "outputs": []
    },
    {
      "cell_type": "code",
      "source": [
        "from sklearn.preprocessing import LabelEncoder"
      ],
      "metadata": {
        "id": "YjBuw0z4VF6x"
      },
      "execution_count": null,
      "outputs": []
    },
    {
      "cell_type": "code",
      "source": [
        "label_encoder_PACK_TYPE = LabelEncoder()\n",
        "label_encoder_PACK_SUBTYPE = LabelEncoder()\n",
        "label_encoder_PACK_CONTENT = LabelEncoder()"
      ],
      "metadata": {
        "id": "iLJv-M9aZ6uc"
      },
      "execution_count": null,
      "outputs": []
    },
    {
      "cell_type": "code",
      "source": [
        "y_train_PACK_TYPE"
      ],
      "metadata": {
        "colab": {
          "base_uri": "https://localhost:8080/"
        },
        "id": "Hr0crL4_CmsD",
        "outputId": "d161f7a2-caf6-409b-8c51-c485093dfcf3"
      },
      "execution_count": null,
      "outputs": [
        {
          "output_type": "execute_result",
          "data": {
            "text/plain": [
              "24020    IC\n",
              "38082    FC\n",
              "19409    IC\n",
              "17949    IC\n",
              "19062    IC\n",
              "         ..\n",
              "48603    FC\n",
              "18996    IC\n",
              "19198    FC\n",
              "5694     IC\n",
              "23802    IC\n",
              "Name: TARGET_PACK_TYPE, Length: 9726, dtype: object"
            ]
          },
          "metadata": {},
          "execution_count": 43
        }
      ]
    },
    {
      "cell_type": "code",
      "source": [
        "label_encoder_PACK_TYPE.fit(y_train_PACK_TYPE)\n",
        "label_encoder_PACK_SUBTYPE.fit(y_train_PACK_SUBTYPE)\n",
        "label_encoder_PACK_CONTENT.fit(y_train_PACK_CONTENT)"
      ],
      "metadata": {
        "colab": {
          "base_uri": "https://localhost:8080/",
          "height": 74
        },
        "id": "1m-0JeEdb0As",
        "outputId": "4e16ff42-5a9e-49e3-b315-d6b7994b883c"
      },
      "execution_count": null,
      "outputs": [
        {
          "output_type": "execute_result",
          "data": {
            "text/plain": [
              "LabelEncoder()"
            ],
            "text/html": [
              "<style>#sk-container-id-1 {color: black;background-color: white;}#sk-container-id-1 pre{padding: 0;}#sk-container-id-1 div.sk-toggleable {background-color: white;}#sk-container-id-1 label.sk-toggleable__label {cursor: pointer;display: block;width: 100%;margin-bottom: 0;padding: 0.3em;box-sizing: border-box;text-align: center;}#sk-container-id-1 label.sk-toggleable__label-arrow:before {content: \"▸\";float: left;margin-right: 0.25em;color: #696969;}#sk-container-id-1 label.sk-toggleable__label-arrow:hover:before {color: black;}#sk-container-id-1 div.sk-estimator:hover label.sk-toggleable__label-arrow:before {color: black;}#sk-container-id-1 div.sk-toggleable__content {max-height: 0;max-width: 0;overflow: hidden;text-align: left;background-color: #f0f8ff;}#sk-container-id-1 div.sk-toggleable__content pre {margin: 0.2em;color: black;border-radius: 0.25em;background-color: #f0f8ff;}#sk-container-id-1 input.sk-toggleable__control:checked~div.sk-toggleable__content {max-height: 200px;max-width: 100%;overflow: auto;}#sk-container-id-1 input.sk-toggleable__control:checked~label.sk-toggleable__label-arrow:before {content: \"▾\";}#sk-container-id-1 div.sk-estimator input.sk-toggleable__control:checked~label.sk-toggleable__label {background-color: #d4ebff;}#sk-container-id-1 div.sk-label input.sk-toggleable__control:checked~label.sk-toggleable__label {background-color: #d4ebff;}#sk-container-id-1 input.sk-hidden--visually {border: 0;clip: rect(1px 1px 1px 1px);clip: rect(1px, 1px, 1px, 1px);height: 1px;margin: -1px;overflow: hidden;padding: 0;position: absolute;width: 1px;}#sk-container-id-1 div.sk-estimator {font-family: monospace;background-color: #f0f8ff;border: 1px dotted black;border-radius: 0.25em;box-sizing: border-box;margin-bottom: 0.5em;}#sk-container-id-1 div.sk-estimator:hover {background-color: #d4ebff;}#sk-container-id-1 div.sk-parallel-item::after {content: \"\";width: 100%;border-bottom: 1px solid gray;flex-grow: 1;}#sk-container-id-1 div.sk-label:hover label.sk-toggleable__label {background-color: #d4ebff;}#sk-container-id-1 div.sk-serial::before {content: \"\";position: absolute;border-left: 1px solid gray;box-sizing: border-box;top: 0;bottom: 0;left: 50%;z-index: 0;}#sk-container-id-1 div.sk-serial {display: flex;flex-direction: column;align-items: center;background-color: white;padding-right: 0.2em;padding-left: 0.2em;position: relative;}#sk-container-id-1 div.sk-item {position: relative;z-index: 1;}#sk-container-id-1 div.sk-parallel {display: flex;align-items: stretch;justify-content: center;background-color: white;position: relative;}#sk-container-id-1 div.sk-item::before, #sk-container-id-1 div.sk-parallel-item::before {content: \"\";position: absolute;border-left: 1px solid gray;box-sizing: border-box;top: 0;bottom: 0;left: 50%;z-index: -1;}#sk-container-id-1 div.sk-parallel-item {display: flex;flex-direction: column;z-index: 1;position: relative;background-color: white;}#sk-container-id-1 div.sk-parallel-item:first-child::after {align-self: flex-end;width: 50%;}#sk-container-id-1 div.sk-parallel-item:last-child::after {align-self: flex-start;width: 50%;}#sk-container-id-1 div.sk-parallel-item:only-child::after {width: 0;}#sk-container-id-1 div.sk-dashed-wrapped {border: 1px dashed gray;margin: 0 0.4em 0.5em 0.4em;box-sizing: border-box;padding-bottom: 0.4em;background-color: white;}#sk-container-id-1 div.sk-label label {font-family: monospace;font-weight: bold;display: inline-block;line-height: 1.2em;}#sk-container-id-1 div.sk-label-container {text-align: center;}#sk-container-id-1 div.sk-container {/* jupyter's `normalize.less` sets `[hidden] { display: none; }` but bootstrap.min.css set `[hidden] { display: none !important; }` so we also need the `!important` here to be able to override the default hidden behavior on the sphinx rendered scikit-learn.org. See: https://github.com/scikit-learn/scikit-learn/issues/21755 */display: inline-block !important;position: relative;}#sk-container-id-1 div.sk-text-repr-fallback {display: none;}</style><div id=\"sk-container-id-1\" class=\"sk-top-container\"><div class=\"sk-text-repr-fallback\"><pre>LabelEncoder()</pre><b>In a Jupyter environment, please rerun this cell to show the HTML representation or trust the notebook. <br />On GitHub, the HTML representation is unable to render, please try loading this page with nbviewer.org.</b></div><div class=\"sk-container\" hidden><div class=\"sk-item\"><div class=\"sk-estimator sk-toggleable\"><input class=\"sk-toggleable__control sk-hidden--visually\" id=\"sk-estimator-id-1\" type=\"checkbox\" checked><label for=\"sk-estimator-id-1\" class=\"sk-toggleable__label sk-toggleable__label-arrow\">LabelEncoder</label><div class=\"sk-toggleable__content\"><pre>LabelEncoder()</pre></div></div></div></div></div>"
            ]
          },
          "metadata": {},
          "execution_count": 44
        }
      ]
    },
    {
      "cell_type": "code",
      "source": [
        "import joblib"
      ],
      "metadata": {
        "id": "AWfI1WXCFWRm"
      },
      "execution_count": null,
      "outputs": []
    },
    {
      "cell_type": "code",
      "source": [
        "# Save the LabelEncoder using pickle\n",
        "with open('label_encoder_PACK_TYPE.pkl', 'wb') as handle:\n",
        "    pickle.dump(label_encoder_PACK_TYPE, handle, protocol=pickle.HIGHEST_PROTOCOL)\n",
        "\n",
        "# Save the LabelEncoder using pickle\n",
        "with open('label_encoder_PACK_SUBTYPE.pkl', 'wb') as handle:\n",
        "    pickle.dump(label_encoder_PACK_SUBTYPE, handle, protocol=pickle.HIGHEST_PROTOCOL)\n",
        "\n",
        "# Save the LabelEncoder using pickle\n",
        "with open('label_encoder_PACK_CONTENT.pkl', 'wb') as handle:\n",
        "    pickle.dump(label_encoder_PACK_CONTENT, handle, protocol=pickle.HIGHEST_PROTOCOL)"
      ],
      "metadata": {
        "id": "eEScBVYQcHlF"
      },
      "execution_count": null,
      "outputs": []
    },
    {
      "cell_type": "code",
      "source": [
        "# Later, to load the LabelEncoder\n",
        "#with open('label_encoder_CATEGORY.pickle', 'rb') as handle:\n",
        "#    loaded_label_encoder_CATEGORY = pickle.load(handle)"
      ],
      "metadata": {
        "id": "H_CnmNvecOTT"
      },
      "execution_count": null,
      "outputs": []
    },
    {
      "cell_type": "code",
      "source": [
        "# Later, to load the LabelEncoder\n",
        "#with open('label_encoder_PACK_SUBTYPE.pkl', 'rb') as handle:\n",
        " #   loaded_label_encoder_PACK_SUBTYPE = pickle.load(handle)"
      ],
      "metadata": {
        "id": "VXEuNh8rcaBK"
      },
      "execution_count": null,
      "outputs": []
    },
    {
      "cell_type": "code",
      "source": [
        "y_train_PACK_TYPE_encoded = label_encoder_PACK_TYPE.transform(y_train_PACK_TYPE)\n",
        "y_train_PACK_SUBTYPE_encoded = label_encoder_PACK_SUBTYPE.transform(y_train_PACK_SUBTYPE)\n",
        "y_train_PACK_CONTENT_encoded = label_encoder_PACK_CONTENT.transform(y_train_PACK_CONTENT)"
      ],
      "metadata": {
        "id": "bJlNlK6cdEVT"
      },
      "execution_count": null,
      "outputs": []
    },
    {
      "cell_type": "code",
      "source": [
        "y_test_PACK_TYPE_encoded = label_encoder_PACK_TYPE.transform(y_test_PACK_TYPE)\n",
        "y_test_PACK_SUBTYPE_encoded = label_encoder_PACK_SUBTYPE.transform(y_test_PACK_SUBTYPE)\n",
        "y_test_PACK_CONTENT_encoded = label_encoder_PACK_CONTENT.transform(y_test_PACK_CONTENT)"
      ],
      "metadata": {
        "id": "u7OFyH5YIeXQ"
      },
      "execution_count": null,
      "outputs": []
    },
    {
      "cell_type": "markdown",
      "source": [
        "Apply one hot encoding to categories"
      ],
      "metadata": {
        "id": "_jDA0Z4NfBmL"
      }
    },
    {
      "cell_type": "code",
      "source": [
        "from keras.utils import to_categorical"
      ],
      "metadata": {
        "id": "g-ZWvzwRfAoV"
      },
      "execution_count": null,
      "outputs": []
    },
    {
      "cell_type": "code",
      "source": [
        "#y_train_PACK_TYPE_encoded_one_hot = to_categorical(y_train_PACK_TYPE_encoded) # Not needed since it is a binary category\n",
        "y_train_PACK_SUBTYPE_encoded_one_hot = to_categorical(y_train_PACK_SUBTYPE_encoded)"
      ],
      "metadata": {
        "id": "wchmL7xtfIzC"
      },
      "execution_count": null,
      "outputs": []
    },
    {
      "cell_type": "code",
      "source": [
        "y_train_PACK_CONTENT_encoded_one_hot = to_categorical(y_train_PACK_CONTENT_encoded)"
      ],
      "metadata": {
        "id": "u9qzGprwxzC8"
      },
      "execution_count": null,
      "outputs": []
    },
    {
      "cell_type": "code",
      "source": [
        "y_train_PACK_SUBTYPE_encoded_one_hot.shape"
      ],
      "metadata": {
        "colab": {
          "base_uri": "https://localhost:8080/"
        },
        "id": "YY_6RPvwflPq",
        "outputId": "42d6e093-a83b-4375-fb59-7275ff7e6599"
      },
      "execution_count": null,
      "outputs": [
        {
          "output_type": "execute_result",
          "data": {
            "text/plain": [
              "(9726, 4)"
            ]
          },
          "metadata": {},
          "execution_count": 54
        }
      ]
    },
    {
      "cell_type": "code",
      "source": [
        "#y_test_PACK_TYPE_encoded_one_hot = to_categorical(y_test_PACK_TYPE_encoded) # Not needed since it is a binary category\n",
        "y_test_PACK_SUBTYPE_encoded_one_hot = to_categorical(y_test_PACK_SUBTYPE_encoded)"
      ],
      "metadata": {
        "id": "Ku1QRnmaIyWb"
      },
      "execution_count": null,
      "outputs": []
    },
    {
      "cell_type": "code",
      "source": [
        "y_test_PACK_CONTENT_encoded_one_hot = to_categorical(y_test_PACK_CONTENT_encoded)"
      ],
      "metadata": {
        "id": "w6OLLQbXydYl"
      },
      "execution_count": null,
      "outputs": []
    },
    {
      "cell_type": "code",
      "source": [
        "#y_test_PACK_TYPE_encoded_one_hot.shape"
      ],
      "metadata": {
        "id": "4M4ecxG7I30Z"
      },
      "execution_count": null,
      "outputs": []
    },
    {
      "cell_type": "code",
      "source": [
        "y_test_PACK_SUBTYPE_encoded_one_hot.shape"
      ],
      "metadata": {
        "colab": {
          "base_uri": "https://localhost:8080/"
        },
        "outputId": "ad29b250-fe9d-4d99-df6a-54ca0ee0e272",
        "id": "bj3JXal-I30n"
      },
      "execution_count": null,
      "outputs": [
        {
          "output_type": "execute_result",
          "data": {
            "text/plain": [
              "(2432, 4)"
            ]
          },
          "metadata": {},
          "execution_count": 58
        }
      ]
    },
    {
      "cell_type": "markdown",
      "source": [
        "### 2.4 Create model TYPE"
      ],
      "metadata": {
        "id": "i71Y9yWuHhTW"
      }
    },
    {
      "cell_type": "code",
      "source": [
        "from keras.models import Sequential\n",
        "from keras.layers import Dense, Dropout\n",
        "from keras.optimizers import Adam\n",
        "from keras.utils import to_categorical"
      ],
      "metadata": {
        "id": "nYyiK4e4c726"
      },
      "execution_count": null,
      "outputs": []
    },
    {
      "cell_type": "code",
      "source": [
        "from keras.models import Model\n",
        "from keras.layers import Input, Embedding, Bidirectional, LSTM, Dense"
      ],
      "metadata": {
        "id": "J3woAcW4iE1L"
      },
      "execution_count": null,
      "outputs": []
    },
    {
      "cell_type": "code",
      "source": [
        "# Build the BiLSTM model for binary classification\n",
        "def build_model_TYPE(input_shape):\n",
        "    model = Sequential()\n",
        "    model.add(Embedding(max_words, 100, input_length=26))\n",
        "    model.add(Bidirectional(LSTM(128)))\n",
        "    model.add(Dense(1, activation='sigmoid'))\n",
        "\n",
        "    model.compile(loss='binary_crossentropy', optimizer=Adam(learning_rate=0.001), metrics=['accuracy'])\n",
        "\n",
        "    return model"
      ],
      "metadata": {
        "id": "cPrqaqlqs7XT"
      },
      "execution_count": null,
      "outputs": []
    },
    {
      "cell_type": "code",
      "source": [
        "model = build_model_TYPE((26,))"
      ],
      "metadata": {
        "id": "HtVTAFqouI_x"
      },
      "execution_count": null,
      "outputs": []
    },
    {
      "cell_type": "code",
      "source": [
        "model.summary()"
      ],
      "metadata": {
        "colab": {
          "base_uri": "https://localhost:8080/"
        },
        "id": "ap2oLNHmxIVo",
        "outputId": "af6ea5cb-f663-47c7-9fd3-1e2c22910733"
      },
      "execution_count": null,
      "outputs": [
        {
          "output_type": "stream",
          "name": "stdout",
          "text": [
            "Model: \"sequential\"\n",
            "_________________________________________________________________\n",
            " Layer (type)                Output Shape              Param #   \n",
            "=================================================================\n",
            " embedding (Embedding)       (None, 26, 100)           500000    \n",
            "                                                                 \n",
            " bidirectional (Bidirectiona  (None, 256)              234496    \n",
            " l)                                                              \n",
            "                                                                 \n",
            " dense (Dense)               (None, 1)                 257       \n",
            "                                                                 \n",
            "=================================================================\n",
            "Total params: 734,753\n",
            "Trainable params: 734,753\n",
            "Non-trainable params: 0\n",
            "_________________________________________________________________\n"
          ]
        }
      ]
    },
    {
      "cell_type": "code",
      "source": [
        "model.fit(X_train_encoded, y_train_PACK_TYPE_encoded, batch_size=32, epochs=10, validation_split=0.2)"
      ],
      "metadata": {
        "colab": {
          "base_uri": "https://localhost:8080/",
          "height": 370
        },
        "id": "nbpU03CBxNGc",
        "outputId": "e66b2b78-6cac-44fa-9b67-9772522c6de5"
      },
      "execution_count": null,
      "outputs": [
        {
          "output_type": "stream",
          "name": "stdout",
          "text": [
            "Epoch 1/10\n",
            " 49/244 [=====>........................] - ETA: 12s - loss: 0.6617 - accuracy: 0.5963"
          ]
        },
        {
          "output_type": "error",
          "ename": "KeyboardInterrupt",
          "evalue": "ignored",
          "traceback": [
            "\u001b[0;31m---------------------------------------------------------------------------\u001b[0m",
            "\u001b[0;31mKeyboardInterrupt\u001b[0m                         Traceback (most recent call last)",
            "\u001b[0;32m<ipython-input-64-17c4a826979d>\u001b[0m in \u001b[0;36m<cell line: 1>\u001b[0;34m()\u001b[0m\n\u001b[0;32m----> 1\u001b[0;31m \u001b[0mmodel\u001b[0m\u001b[0;34m.\u001b[0m\u001b[0mfit\u001b[0m\u001b[0;34m(\u001b[0m\u001b[0mX_train_encoded\u001b[0m\u001b[0;34m,\u001b[0m \u001b[0my_train_PACK_TYPE_encoded\u001b[0m\u001b[0;34m,\u001b[0m \u001b[0mbatch_size\u001b[0m\u001b[0;34m=\u001b[0m\u001b[0;36m32\u001b[0m\u001b[0;34m,\u001b[0m \u001b[0mepochs\u001b[0m\u001b[0;34m=\u001b[0m\u001b[0;36m10\u001b[0m\u001b[0;34m,\u001b[0m \u001b[0mvalidation_split\u001b[0m\u001b[0;34m=\u001b[0m\u001b[0;36m0.2\u001b[0m\u001b[0;34m)\u001b[0m\u001b[0;34m\u001b[0m\u001b[0;34m\u001b[0m\u001b[0m\n\u001b[0m",
            "\u001b[0;32m/usr/local/lib/python3.10/dist-packages/keras/utils/traceback_utils.py\u001b[0m in \u001b[0;36merror_handler\u001b[0;34m(*args, **kwargs)\u001b[0m\n\u001b[1;32m     63\u001b[0m         \u001b[0mfiltered_tb\u001b[0m \u001b[0;34m=\u001b[0m \u001b[0;32mNone\u001b[0m\u001b[0;34m\u001b[0m\u001b[0;34m\u001b[0m\u001b[0m\n\u001b[1;32m     64\u001b[0m         \u001b[0;32mtry\u001b[0m\u001b[0;34m:\u001b[0m\u001b[0;34m\u001b[0m\u001b[0;34m\u001b[0m\u001b[0m\n\u001b[0;32m---> 65\u001b[0;31m             \u001b[0;32mreturn\u001b[0m \u001b[0mfn\u001b[0m\u001b[0;34m(\u001b[0m\u001b[0;34m*\u001b[0m\u001b[0margs\u001b[0m\u001b[0;34m,\u001b[0m \u001b[0;34m**\u001b[0m\u001b[0mkwargs\u001b[0m\u001b[0;34m)\u001b[0m\u001b[0;34m\u001b[0m\u001b[0;34m\u001b[0m\u001b[0m\n\u001b[0m\u001b[1;32m     66\u001b[0m         \u001b[0;32mexcept\u001b[0m \u001b[0mException\u001b[0m \u001b[0;32mas\u001b[0m \u001b[0me\u001b[0m\u001b[0;34m:\u001b[0m\u001b[0;34m\u001b[0m\u001b[0;34m\u001b[0m\u001b[0m\n\u001b[1;32m     67\u001b[0m             \u001b[0mfiltered_tb\u001b[0m \u001b[0;34m=\u001b[0m \u001b[0m_process_traceback_frames\u001b[0m\u001b[0;34m(\u001b[0m\u001b[0me\u001b[0m\u001b[0;34m.\u001b[0m\u001b[0m__traceback__\u001b[0m\u001b[0;34m)\u001b[0m\u001b[0;34m\u001b[0m\u001b[0;34m\u001b[0m\u001b[0m\n",
            "\u001b[0;32m/usr/local/lib/python3.10/dist-packages/keras/engine/training.py\u001b[0m in \u001b[0;36mfit\u001b[0;34m(self, x, y, batch_size, epochs, verbose, callbacks, validation_split, validation_data, shuffle, class_weight, sample_weight, initial_epoch, steps_per_epoch, validation_steps, validation_batch_size, validation_freq, max_queue_size, workers, use_multiprocessing)\u001b[0m\n\u001b[1;32m   1683\u001b[0m                         ):\n\u001b[1;32m   1684\u001b[0m                             \u001b[0mcallbacks\u001b[0m\u001b[0;34m.\u001b[0m\u001b[0mon_train_batch_begin\u001b[0m\u001b[0;34m(\u001b[0m\u001b[0mstep\u001b[0m\u001b[0;34m)\u001b[0m\u001b[0;34m\u001b[0m\u001b[0;34m\u001b[0m\u001b[0m\n\u001b[0;32m-> 1685\u001b[0;31m                             \u001b[0mtmp_logs\u001b[0m \u001b[0;34m=\u001b[0m \u001b[0mself\u001b[0m\u001b[0;34m.\u001b[0m\u001b[0mtrain_function\u001b[0m\u001b[0;34m(\u001b[0m\u001b[0miterator\u001b[0m\u001b[0;34m)\u001b[0m\u001b[0;34m\u001b[0m\u001b[0;34m\u001b[0m\u001b[0m\n\u001b[0m\u001b[1;32m   1686\u001b[0m                             \u001b[0;32mif\u001b[0m \u001b[0mdata_handler\u001b[0m\u001b[0;34m.\u001b[0m\u001b[0mshould_sync\u001b[0m\u001b[0;34m:\u001b[0m\u001b[0;34m\u001b[0m\u001b[0;34m\u001b[0m\u001b[0m\n\u001b[1;32m   1687\u001b[0m                                 \u001b[0mcontext\u001b[0m\u001b[0;34m.\u001b[0m\u001b[0masync_wait\u001b[0m\u001b[0;34m(\u001b[0m\u001b[0;34m)\u001b[0m\u001b[0;34m\u001b[0m\u001b[0;34m\u001b[0m\u001b[0m\n",
            "\u001b[0;32m/usr/local/lib/python3.10/dist-packages/tensorflow/python/util/traceback_utils.py\u001b[0m in \u001b[0;36merror_handler\u001b[0;34m(*args, **kwargs)\u001b[0m\n\u001b[1;32m    148\u001b[0m     \u001b[0mfiltered_tb\u001b[0m \u001b[0;34m=\u001b[0m \u001b[0;32mNone\u001b[0m\u001b[0;34m\u001b[0m\u001b[0;34m\u001b[0m\u001b[0m\n\u001b[1;32m    149\u001b[0m     \u001b[0;32mtry\u001b[0m\u001b[0;34m:\u001b[0m\u001b[0;34m\u001b[0m\u001b[0;34m\u001b[0m\u001b[0m\n\u001b[0;32m--> 150\u001b[0;31m       \u001b[0;32mreturn\u001b[0m \u001b[0mfn\u001b[0m\u001b[0;34m(\u001b[0m\u001b[0;34m*\u001b[0m\u001b[0margs\u001b[0m\u001b[0;34m,\u001b[0m \u001b[0;34m**\u001b[0m\u001b[0mkwargs\u001b[0m\u001b[0;34m)\u001b[0m\u001b[0;34m\u001b[0m\u001b[0;34m\u001b[0m\u001b[0m\n\u001b[0m\u001b[1;32m    151\u001b[0m     \u001b[0;32mexcept\u001b[0m \u001b[0mException\u001b[0m \u001b[0;32mas\u001b[0m \u001b[0me\u001b[0m\u001b[0;34m:\u001b[0m\u001b[0;34m\u001b[0m\u001b[0;34m\u001b[0m\u001b[0m\n\u001b[1;32m    152\u001b[0m       \u001b[0mfiltered_tb\u001b[0m \u001b[0;34m=\u001b[0m \u001b[0m_process_traceback_frames\u001b[0m\u001b[0;34m(\u001b[0m\u001b[0me\u001b[0m\u001b[0;34m.\u001b[0m\u001b[0m__traceback__\u001b[0m\u001b[0;34m)\u001b[0m\u001b[0;34m\u001b[0m\u001b[0;34m\u001b[0m\u001b[0m\n",
            "\u001b[0;32m/usr/local/lib/python3.10/dist-packages/tensorflow/python/eager/polymorphic_function/polymorphic_function.py\u001b[0m in \u001b[0;36m__call__\u001b[0;34m(self, *args, **kwds)\u001b[0m\n\u001b[1;32m    892\u001b[0m \u001b[0;34m\u001b[0m\u001b[0m\n\u001b[1;32m    893\u001b[0m       \u001b[0;32mwith\u001b[0m \u001b[0mOptionalXlaContext\u001b[0m\u001b[0;34m(\u001b[0m\u001b[0mself\u001b[0m\u001b[0;34m.\u001b[0m\u001b[0m_jit_compile\u001b[0m\u001b[0;34m)\u001b[0m\u001b[0;34m:\u001b[0m\u001b[0;34m\u001b[0m\u001b[0;34m\u001b[0m\u001b[0m\n\u001b[0;32m--> 894\u001b[0;31m         \u001b[0mresult\u001b[0m \u001b[0;34m=\u001b[0m \u001b[0mself\u001b[0m\u001b[0;34m.\u001b[0m\u001b[0m_call\u001b[0m\u001b[0;34m(\u001b[0m\u001b[0;34m*\u001b[0m\u001b[0margs\u001b[0m\u001b[0;34m,\u001b[0m \u001b[0;34m**\u001b[0m\u001b[0mkwds\u001b[0m\u001b[0;34m)\u001b[0m\u001b[0;34m\u001b[0m\u001b[0;34m\u001b[0m\u001b[0m\n\u001b[0m\u001b[1;32m    895\u001b[0m \u001b[0;34m\u001b[0m\u001b[0m\n\u001b[1;32m    896\u001b[0m       \u001b[0mnew_tracing_count\u001b[0m \u001b[0;34m=\u001b[0m \u001b[0mself\u001b[0m\u001b[0;34m.\u001b[0m\u001b[0mexperimental_get_tracing_count\u001b[0m\u001b[0;34m(\u001b[0m\u001b[0;34m)\u001b[0m\u001b[0;34m\u001b[0m\u001b[0;34m\u001b[0m\u001b[0m\n",
            "\u001b[0;32m/usr/local/lib/python3.10/dist-packages/tensorflow/python/eager/polymorphic_function/polymorphic_function.py\u001b[0m in \u001b[0;36m_call\u001b[0;34m(self, *args, **kwds)\u001b[0m\n\u001b[1;32m    924\u001b[0m       \u001b[0;31m# In this case we have created variables on the first call, so we run the\u001b[0m\u001b[0;34m\u001b[0m\u001b[0;34m\u001b[0m\u001b[0m\n\u001b[1;32m    925\u001b[0m       \u001b[0;31m# defunned version which is guaranteed to never create variables.\u001b[0m\u001b[0;34m\u001b[0m\u001b[0;34m\u001b[0m\u001b[0m\n\u001b[0;32m--> 926\u001b[0;31m       \u001b[0;32mreturn\u001b[0m \u001b[0mself\u001b[0m\u001b[0;34m.\u001b[0m\u001b[0m_no_variable_creation_fn\u001b[0m\u001b[0;34m(\u001b[0m\u001b[0;34m*\u001b[0m\u001b[0margs\u001b[0m\u001b[0;34m,\u001b[0m \u001b[0;34m**\u001b[0m\u001b[0mkwds\u001b[0m\u001b[0;34m)\u001b[0m  \u001b[0;31m# pylint: disable=not-callable\u001b[0m\u001b[0;34m\u001b[0m\u001b[0;34m\u001b[0m\u001b[0m\n\u001b[0m\u001b[1;32m    927\u001b[0m     \u001b[0;32melif\u001b[0m \u001b[0mself\u001b[0m\u001b[0;34m.\u001b[0m\u001b[0m_variable_creation_fn\u001b[0m \u001b[0;32mis\u001b[0m \u001b[0;32mnot\u001b[0m \u001b[0;32mNone\u001b[0m\u001b[0;34m:\u001b[0m\u001b[0;34m\u001b[0m\u001b[0;34m\u001b[0m\u001b[0m\n\u001b[1;32m    928\u001b[0m       \u001b[0;31m# Release the lock early so that multiple threads can perform the call\u001b[0m\u001b[0;34m\u001b[0m\u001b[0;34m\u001b[0m\u001b[0m\n",
            "\u001b[0;32m/usr/local/lib/python3.10/dist-packages/tensorflow/python/eager/polymorphic_function/tracing_compiler.py\u001b[0m in \u001b[0;36m__call__\u001b[0;34m(self, *args, **kwargs)\u001b[0m\n\u001b[1;32m    141\u001b[0m       (concrete_function,\n\u001b[1;32m    142\u001b[0m        filtered_flat_args) = self._maybe_define_function(args, kwargs)\n\u001b[0;32m--> 143\u001b[0;31m     return concrete_function._call_flat(\n\u001b[0m\u001b[1;32m    144\u001b[0m         filtered_flat_args, captured_inputs=concrete_function.captured_inputs)  # pylint: disable=protected-access\n\u001b[1;32m    145\u001b[0m \u001b[0;34m\u001b[0m\u001b[0m\n",
            "\u001b[0;32m/usr/local/lib/python3.10/dist-packages/tensorflow/python/eager/polymorphic_function/monomorphic_function.py\u001b[0m in \u001b[0;36m_call_flat\u001b[0;34m(self, args, captured_inputs, cancellation_manager)\u001b[0m\n\u001b[1;32m   1755\u001b[0m         and executing_eagerly):\n\u001b[1;32m   1756\u001b[0m       \u001b[0;31m# No tape is watching; skip to running the function.\u001b[0m\u001b[0;34m\u001b[0m\u001b[0;34m\u001b[0m\u001b[0m\n\u001b[0;32m-> 1757\u001b[0;31m       return self._build_call_outputs(self._inference_function.call(\n\u001b[0m\u001b[1;32m   1758\u001b[0m           ctx, args, cancellation_manager=cancellation_manager))\n\u001b[1;32m   1759\u001b[0m     forward_backward = self._select_forward_and_backward_functions(\n",
            "\u001b[0;32m/usr/local/lib/python3.10/dist-packages/tensorflow/python/eager/polymorphic_function/monomorphic_function.py\u001b[0m in \u001b[0;36mcall\u001b[0;34m(self, ctx, args, cancellation_manager)\u001b[0m\n\u001b[1;32m    379\u001b[0m       \u001b[0;32mwith\u001b[0m \u001b[0m_InterpolateFunctionError\u001b[0m\u001b[0;34m(\u001b[0m\u001b[0mself\u001b[0m\u001b[0;34m)\u001b[0m\u001b[0;34m:\u001b[0m\u001b[0;34m\u001b[0m\u001b[0;34m\u001b[0m\u001b[0m\n\u001b[1;32m    380\u001b[0m         \u001b[0;32mif\u001b[0m \u001b[0mcancellation_manager\u001b[0m \u001b[0;32mis\u001b[0m \u001b[0;32mNone\u001b[0m\u001b[0;34m:\u001b[0m\u001b[0;34m\u001b[0m\u001b[0;34m\u001b[0m\u001b[0m\n\u001b[0;32m--> 381\u001b[0;31m           outputs = execute.execute(\n\u001b[0m\u001b[1;32m    382\u001b[0m               \u001b[0mstr\u001b[0m\u001b[0;34m(\u001b[0m\u001b[0mself\u001b[0m\u001b[0;34m.\u001b[0m\u001b[0msignature\u001b[0m\u001b[0;34m.\u001b[0m\u001b[0mname\u001b[0m\u001b[0;34m)\u001b[0m\u001b[0;34m,\u001b[0m\u001b[0;34m\u001b[0m\u001b[0;34m\u001b[0m\u001b[0m\n\u001b[1;32m    383\u001b[0m               \u001b[0mnum_outputs\u001b[0m\u001b[0;34m=\u001b[0m\u001b[0mself\u001b[0m\u001b[0;34m.\u001b[0m\u001b[0m_num_outputs\u001b[0m\u001b[0;34m,\u001b[0m\u001b[0;34m\u001b[0m\u001b[0;34m\u001b[0m\u001b[0m\n",
            "\u001b[0;32m/usr/local/lib/python3.10/dist-packages/tensorflow/python/eager/execute.py\u001b[0m in \u001b[0;36mquick_execute\u001b[0;34m(op_name, num_outputs, inputs, attrs, ctx, name)\u001b[0m\n\u001b[1;32m     50\u001b[0m   \u001b[0;32mtry\u001b[0m\u001b[0;34m:\u001b[0m\u001b[0;34m\u001b[0m\u001b[0;34m\u001b[0m\u001b[0m\n\u001b[1;32m     51\u001b[0m     \u001b[0mctx\u001b[0m\u001b[0;34m.\u001b[0m\u001b[0mensure_initialized\u001b[0m\u001b[0;34m(\u001b[0m\u001b[0;34m)\u001b[0m\u001b[0;34m\u001b[0m\u001b[0;34m\u001b[0m\u001b[0m\n\u001b[0;32m---> 52\u001b[0;31m     tensors = pywrap_tfe.TFE_Py_Execute(ctx._handle, device_name, op_name,\n\u001b[0m\u001b[1;32m     53\u001b[0m                                         inputs, attrs, num_outputs)\n\u001b[1;32m     54\u001b[0m   \u001b[0;32mexcept\u001b[0m \u001b[0mcore\u001b[0m\u001b[0;34m.\u001b[0m\u001b[0m_NotOkStatusException\u001b[0m \u001b[0;32mas\u001b[0m \u001b[0me\u001b[0m\u001b[0;34m:\u001b[0m\u001b[0;34m\u001b[0m\u001b[0;34m\u001b[0m\u001b[0m\n",
            "\u001b[0;31mKeyboardInterrupt\u001b[0m: "
          ]
        }
      ]
    },
    {
      "cell_type": "markdown",
      "source": [
        "#### 2.5.1 Evaluate model PACK_TYPE"
      ],
      "metadata": {
        "id": "m4wZ7r7_yvtd"
      }
    },
    {
      "cell_type": "code",
      "source": [
        "# Evaluate the model on the test data\n",
        "evaluation_results = model.evaluate(X_test_encoded, y_test_PACK_TYPE_encoded)\n",
        "\n",
        "# The evaluation results will contain the loss and any specified metrics\n",
        "print(\"Test Loss:\", evaluation_results[0])\n",
        "print(\"Test Accuracy:\", evaluation_results[1])"
      ],
      "metadata": {
        "colab": {
          "base_uri": "https://localhost:8080/"
        },
        "outputId": "03e0ff77-1892-4ec5-b60c-361c23736297",
        "id": "AJOP4fJOyvtq"
      },
      "execution_count": null,
      "outputs": [
        {
          "output_type": "stream",
          "name": "stdout",
          "text": [
            "76/76 [==============================] - 4s 57ms/step - loss: 0.3995 - accuracy: 0.8429\n",
            "Test Loss: 0.39950910210609436\n",
            "Test Accuracy: 0.8429276347160339\n"
          ]
        }
      ]
    },
    {
      "cell_type": "code",
      "source": [
        "y_pred_probs = model.predict(X_test_encoded)"
      ],
      "metadata": {
        "colab": {
          "base_uri": "https://localhost:8080/"
        },
        "id": "tCaABpTcYNgL",
        "outputId": "3a46039e-1963-442f-a736-93516ae41dfd"
      },
      "execution_count": null,
      "outputs": [
        {
          "output_type": "stream",
          "name": "stdout",
          "text": [
            "76/76 [==============================] - 5s 34ms/step\n"
          ]
        }
      ]
    },
    {
      "cell_type": "code",
      "source": [
        "# Define the threshold for classification (0.5 is commonly used)\n",
        "threshold = 0.5\n",
        "\n",
        "# Convert probabilities to integers (0 or 1) based on the threshold\n",
        "y_pred = (y_pred_probs >= threshold).astype(int)\n",
        "\n",
        "print(y_pred)"
      ],
      "metadata": {
        "colab": {
          "base_uri": "https://localhost:8080/"
        },
        "id": "tyCQcXpuYeXI",
        "outputId": "c812ba81-1401-4b4e-e68b-05442ea9e7fd"
      },
      "execution_count": null,
      "outputs": [
        {
          "output_type": "stream",
          "name": "stdout",
          "text": [
            "[[1]\n",
            " [0]\n",
            " [1]\n",
            " ...\n",
            " [1]\n",
            " [0]\n",
            " [0]]\n"
          ]
        }
      ]
    },
    {
      "cell_type": "code",
      "source": [
        "# Create a DataFrame with y_test and y_pred as columns\n",
        "data = {'Actual': y_test_PACK_TYPE_encoded, 'Predicted': y_pred.flatten()}\n",
        "df = pd.DataFrame(data)\n",
        "\n",
        "# Create the truth table using pd.crosstab()\n",
        "truth_table = pd.crosstab(df['Actual'], df['Predicted'], rownames=['Actual'], colnames=['Predicted'])\n"
      ],
      "metadata": {
        "id": "KfbTtv39Yazh"
      },
      "execution_count": null,
      "outputs": []
    },
    {
      "cell_type": "code",
      "source": [
        "truth_table"
      ],
      "metadata": {
        "colab": {
          "base_uri": "https://localhost:8080/",
          "height": 143
        },
        "id": "KhiNn7tA5HF8",
        "outputId": "450153fc-8e15-4747-baf5-42f61c854847"
      },
      "execution_count": null,
      "outputs": [
        {
          "output_type": "execute_result",
          "data": {
            "text/plain": [
              "Predicted     0    1\n",
              "Actual              \n",
              "0          1125  195\n",
              "1           187  925"
            ],
            "text/html": [
              "\n",
              "\n",
              "  <div id=\"df-c66915ff-bf7d-464d-bcdb-519d9a79fae4\">\n",
              "    <div class=\"colab-df-container\">\n",
              "      <div>\n",
              "<style scoped>\n",
              "    .dataframe tbody tr th:only-of-type {\n",
              "        vertical-align: middle;\n",
              "    }\n",
              "\n",
              "    .dataframe tbody tr th {\n",
              "        vertical-align: top;\n",
              "    }\n",
              "\n",
              "    .dataframe thead th {\n",
              "        text-align: right;\n",
              "    }\n",
              "</style>\n",
              "<table border=\"1\" class=\"dataframe\">\n",
              "  <thead>\n",
              "    <tr style=\"text-align: right;\">\n",
              "      <th>Predicted</th>\n",
              "      <th>0</th>\n",
              "      <th>1</th>\n",
              "    </tr>\n",
              "    <tr>\n",
              "      <th>Actual</th>\n",
              "      <th></th>\n",
              "      <th></th>\n",
              "    </tr>\n",
              "  </thead>\n",
              "  <tbody>\n",
              "    <tr>\n",
              "      <th>0</th>\n",
              "      <td>1125</td>\n",
              "      <td>195</td>\n",
              "    </tr>\n",
              "    <tr>\n",
              "      <th>1</th>\n",
              "      <td>187</td>\n",
              "      <td>925</td>\n",
              "    </tr>\n",
              "  </tbody>\n",
              "</table>\n",
              "</div>\n",
              "      <button class=\"colab-df-convert\" onclick=\"convertToInteractive('df-c66915ff-bf7d-464d-bcdb-519d9a79fae4')\"\n",
              "              title=\"Convert this dataframe to an interactive table.\"\n",
              "              style=\"display:none;\">\n",
              "\n",
              "  <svg xmlns=\"http://www.w3.org/2000/svg\" height=\"24px\"viewBox=\"0 0 24 24\"\n",
              "       width=\"24px\">\n",
              "    <path d=\"M0 0h24v24H0V0z\" fill=\"none\"/>\n",
              "    <path d=\"M18.56 5.44l.94 2.06.94-2.06 2.06-.94-2.06-.94-.94-2.06-.94 2.06-2.06.94zm-11 1L8.5 8.5l.94-2.06 2.06-.94-2.06-.94L8.5 2.5l-.94 2.06-2.06.94zm10 10l.94 2.06.94-2.06 2.06-.94-2.06-.94-.94-2.06-.94 2.06-2.06.94z\"/><path d=\"M17.41 7.96l-1.37-1.37c-.4-.4-.92-.59-1.43-.59-.52 0-1.04.2-1.43.59L10.3 9.45l-7.72 7.72c-.78.78-.78 2.05 0 2.83L4 21.41c.39.39.9.59 1.41.59.51 0 1.02-.2 1.41-.59l7.78-7.78 2.81-2.81c.8-.78.8-2.07 0-2.86zM5.41 20L4 18.59l7.72-7.72 1.47 1.35L5.41 20z\"/>\n",
              "  </svg>\n",
              "      </button>\n",
              "\n",
              "\n",
              "\n",
              "    <div id=\"df-d0d8f689-2981-4213-9b9a-4e375f96c310\">\n",
              "      <button class=\"colab-df-quickchart\" onclick=\"quickchart('df-d0d8f689-2981-4213-9b9a-4e375f96c310')\"\n",
              "              title=\"Suggest charts.\"\n",
              "              style=\"display:none;\">\n",
              "\n",
              "<svg xmlns=\"http://www.w3.org/2000/svg\" height=\"24px\"viewBox=\"0 0 24 24\"\n",
              "     width=\"24px\">\n",
              "    <g>\n",
              "        <path d=\"M19 3H5c-1.1 0-2 .9-2 2v14c0 1.1.9 2 2 2h14c1.1 0 2-.9 2-2V5c0-1.1-.9-2-2-2zM9 17H7v-7h2v7zm4 0h-2V7h2v10zm4 0h-2v-4h2v4z\"/>\n",
              "    </g>\n",
              "</svg>\n",
              "      </button>\n",
              "    </div>\n",
              "\n",
              "<style>\n",
              "  .colab-df-quickchart {\n",
              "    background-color: #E8F0FE;\n",
              "    border: none;\n",
              "    border-radius: 50%;\n",
              "    cursor: pointer;\n",
              "    display: none;\n",
              "    fill: #1967D2;\n",
              "    height: 32px;\n",
              "    padding: 0 0 0 0;\n",
              "    width: 32px;\n",
              "  }\n",
              "\n",
              "  .colab-df-quickchart:hover {\n",
              "    background-color: #E2EBFA;\n",
              "    box-shadow: 0px 1px 2px rgba(60, 64, 67, 0.3), 0px 1px 3px 1px rgba(60, 64, 67, 0.15);\n",
              "    fill: #174EA6;\n",
              "  }\n",
              "\n",
              "  [theme=dark] .colab-df-quickchart {\n",
              "    background-color: #3B4455;\n",
              "    fill: #D2E3FC;\n",
              "  }\n",
              "\n",
              "  [theme=dark] .colab-df-quickchart:hover {\n",
              "    background-color: #434B5C;\n",
              "    box-shadow: 0px 1px 3px 1px rgba(0, 0, 0, 0.15);\n",
              "    filter: drop-shadow(0px 1px 2px rgba(0, 0, 0, 0.3));\n",
              "    fill: #FFFFFF;\n",
              "  }\n",
              "</style>\n",
              "\n",
              "    <script>\n",
              "      async function quickchart(key) {\n",
              "        const containerElement = document.querySelector('#' + key);\n",
              "        const charts = await google.colab.kernel.invokeFunction(\n",
              "            'suggestCharts', [key], {});\n",
              "      }\n",
              "    </script>\n",
              "\n",
              "      <script>\n",
              "\n",
              "function displayQuickchartButton(domScope) {\n",
              "  let quickchartButtonEl =\n",
              "    domScope.querySelector('#df-d0d8f689-2981-4213-9b9a-4e375f96c310 button.colab-df-quickchart');\n",
              "  quickchartButtonEl.style.display =\n",
              "    google.colab.kernel.accessAllowed ? 'block' : 'none';\n",
              "}\n",
              "\n",
              "        displayQuickchartButton(document);\n",
              "      </script>\n",
              "      <style>\n",
              "    .colab-df-container {\n",
              "      display:flex;\n",
              "      flex-wrap:wrap;\n",
              "      gap: 12px;\n",
              "    }\n",
              "\n",
              "    .colab-df-convert {\n",
              "      background-color: #E8F0FE;\n",
              "      border: none;\n",
              "      border-radius: 50%;\n",
              "      cursor: pointer;\n",
              "      display: none;\n",
              "      fill: #1967D2;\n",
              "      height: 32px;\n",
              "      padding: 0 0 0 0;\n",
              "      width: 32px;\n",
              "    }\n",
              "\n",
              "    .colab-df-convert:hover {\n",
              "      background-color: #E2EBFA;\n",
              "      box-shadow: 0px 1px 2px rgba(60, 64, 67, 0.3), 0px 1px 3px 1px rgba(60, 64, 67, 0.15);\n",
              "      fill: #174EA6;\n",
              "    }\n",
              "\n",
              "    [theme=dark] .colab-df-convert {\n",
              "      background-color: #3B4455;\n",
              "      fill: #D2E3FC;\n",
              "    }\n",
              "\n",
              "    [theme=dark] .colab-df-convert:hover {\n",
              "      background-color: #434B5C;\n",
              "      box-shadow: 0px 1px 3px 1px rgba(0, 0, 0, 0.15);\n",
              "      filter: drop-shadow(0px 1px 2px rgba(0, 0, 0, 0.3));\n",
              "      fill: #FFFFFF;\n",
              "    }\n",
              "  </style>\n",
              "\n",
              "      <script>\n",
              "        const buttonEl =\n",
              "          document.querySelector('#df-c66915ff-bf7d-464d-bcdb-519d9a79fae4 button.colab-df-convert');\n",
              "        buttonEl.style.display =\n",
              "          google.colab.kernel.accessAllowed ? 'block' : 'none';\n",
              "\n",
              "        async function convertToInteractive(key) {\n",
              "          const element = document.querySelector('#df-c66915ff-bf7d-464d-bcdb-519d9a79fae4');\n",
              "          const dataTable =\n",
              "            await google.colab.kernel.invokeFunction('convertToInteractive',\n",
              "                                                     [key], {});\n",
              "          if (!dataTable) return;\n",
              "\n",
              "          const docLinkHtml = 'Like what you see? Visit the ' +\n",
              "            '<a target=\"_blank\" href=https://colab.research.google.com/notebooks/data_table.ipynb>data table notebook</a>'\n",
              "            + ' to learn more about interactive tables.';\n",
              "          element.innerHTML = '';\n",
              "          dataTable['output_type'] = 'display_data';\n",
              "          await google.colab.output.renderOutput(dataTable, element);\n",
              "          const docLink = document.createElement('div');\n",
              "          docLink.innerHTML = docLinkHtml;\n",
              "          element.appendChild(docLink);\n",
              "        }\n",
              "      </script>\n",
              "    </div>\n",
              "  </div>\n"
            ]
          },
          "metadata": {},
          "execution_count": 69
        }
      ]
    },
    {
      "cell_type": "markdown",
      "source": [
        "#### 2.5.2 Save the model PACK_TYPE"
      ],
      "metadata": {
        "id": "1qMBI07iyvtr"
      }
    },
    {
      "cell_type": "code",
      "source": [
        "from keras.models import save_model\n",
        "\n",
        "# Save the model to a file named 'your_model_filename.h5'\n",
        "model.save('model_PACK_TYPE.h5')"
      ],
      "metadata": {
        "id": "qXXeVFIByvts"
      },
      "execution_count": null,
      "outputs": []
    },
    {
      "cell_type": "markdown",
      "source": [
        "### 2.5 Create model PACK_SUBTYPE\n"
      ],
      "metadata": {
        "id": "hTBtFodAc887"
      }
    },
    {
      "cell_type": "code",
      "source": [
        "len(tokenizer.word_counts)"
      ],
      "metadata": {
        "colab": {
          "base_uri": "https://localhost:8080/"
        },
        "id": "7DeNu9yKiPV9",
        "outputId": "c4ff8877-4cb5-454e-a795-2b0424720a61"
      },
      "execution_count": null,
      "outputs": [
        {
          "output_type": "execute_result",
          "data": {
            "text/plain": [
              "2939"
            ]
          },
          "metadata": {},
          "execution_count": 71
        }
      ]
    },
    {
      "cell_type": "code",
      "source": [
        "def build_model(input_shape, num_classes):\n",
        "    text_input = Input(shape=input_shape, name='text_input')\n",
        "    embedding_layer = Embedding(max_words, 100, input_length=26)(text_input)\n",
        "\n",
        "    lstm_layer = Bidirectional(LSTM(128))(embedding_layer)\n",
        "\n",
        "    output_layer = Dense(num_classes, activation='softmax')(lstm_layer)\n",
        "\n",
        "    model = Model(inputs=text_input, outputs=output_layer)\n",
        "\n",
        "    model.compile(loss='categorical_crossentropy', optimizer='adam', metrics=['accuracy'])\n",
        "\n",
        "    return model"
      ],
      "metadata": {
        "id": "68Of1A4kgJZ-"
      },
      "execution_count": null,
      "outputs": []
    },
    {
      "cell_type": "code",
      "source": [
        "model = build_model((26,), len(np.unique(y_train_PACK_SUBTYPE)))"
      ],
      "metadata": {
        "id": "k3u2fPYaig7e"
      },
      "execution_count": null,
      "outputs": []
    },
    {
      "cell_type": "code",
      "source": [
        "model.summary()"
      ],
      "metadata": {
        "colab": {
          "base_uri": "https://localhost:8080/"
        },
        "id": "tix_ahVgit7F",
        "outputId": "72b2c229-6b0a-4230-8c32-b4e3b214b1dd"
      },
      "execution_count": null,
      "outputs": [
        {
          "output_type": "stream",
          "name": "stdout",
          "text": [
            "Model: \"model_3\"\n",
            "_________________________________________________________________\n",
            " Layer (type)                Output Shape              Param #   \n",
            "=================================================================\n",
            " text_input (InputLayer)     [(None, 26)]              0         \n",
            "                                                                 \n",
            " embedding_4 (Embedding)     (None, 26, 100)           500000    \n",
            "                                                                 \n",
            " bidirectional_4 (Bidirectio  (None, 256)              234496    \n",
            " nal)                                                            \n",
            "                                                                 \n",
            " dense_4 (Dense)             (None, 4)                 1028      \n",
            "                                                                 \n",
            "=================================================================\n",
            "Total params: 735,524\n",
            "Trainable params: 735,524\n",
            "Non-trainable params: 0\n",
            "_________________________________________________________________\n"
          ]
        }
      ]
    },
    {
      "cell_type": "code",
      "source": [
        "model.fit(X_train_encoded, y_train_PACK_SUBTYPE_encoded_one_hot, batch_size=32, epochs=10, validation_split=0.2)"
      ],
      "metadata": {
        "colab": {
          "base_uri": "https://localhost:8080/"
        },
        "id": "9nJIUIc8iwN9",
        "outputId": "6bde2172-2bad-43b6-d046-a40cdd45426d"
      },
      "execution_count": null,
      "outputs": [
        {
          "output_type": "stream",
          "name": "stdout",
          "text": [
            "Epoch 1/10\n",
            "244/244 [==============================] - 40s 141ms/step - loss: 0.8425 - accuracy: 0.6238 - val_loss: 0.5945 - val_accuracy: 0.7646\n",
            "Epoch 2/10\n",
            "244/244 [==============================] - 36s 146ms/step - loss: 0.5087 - accuracy: 0.7990 - val_loss: 0.5258 - val_accuracy: 0.7801\n",
            "Epoch 3/10\n",
            "244/244 [==============================] - 35s 145ms/step - loss: 0.4079 - accuracy: 0.8379 - val_loss: 0.4591 - val_accuracy: 0.8068\n",
            "Epoch 4/10\n",
            "244/244 [==============================] - 35s 143ms/step - loss: 0.3717 - accuracy: 0.8476 - val_loss: 0.5213 - val_accuracy: 0.8032\n",
            "Epoch 5/10\n",
            "244/244 [==============================] - 38s 157ms/step - loss: 0.3515 - accuracy: 0.8531 - val_loss: 0.4531 - val_accuracy: 0.8155\n",
            "Epoch 6/10\n",
            "244/244 [==============================] - 35s 144ms/step - loss: 0.3238 - accuracy: 0.8677 - val_loss: 0.4464 - val_accuracy: 0.8155\n",
            "Epoch 7/10\n",
            "244/244 [==============================] - 35s 144ms/step - loss: 0.3121 - accuracy: 0.8726 - val_loss: 0.4598 - val_accuracy: 0.8140\n",
            "Epoch 8/10\n",
            "244/244 [==============================] - 39s 161ms/step - loss: 0.2979 - accuracy: 0.8706 - val_loss: 0.4692 - val_accuracy: 0.8140\n",
            "Epoch 9/10\n",
            "244/244 [==============================] - 34s 138ms/step - loss: 0.2979 - accuracy: 0.8670 - val_loss: 0.4620 - val_accuracy: 0.8140\n",
            "Epoch 10/10\n",
            "244/244 [==============================] - 35s 144ms/step - loss: 0.2791 - accuracy: 0.8753 - val_loss: 0.4941 - val_accuracy: 0.7991\n"
          ]
        },
        {
          "output_type": "execute_result",
          "data": {
            "text/plain": [
              "<keras.callbacks.History at 0x7d41e08bc520>"
            ]
          },
          "metadata": {},
          "execution_count": 83
        }
      ]
    },
    {
      "cell_type": "markdown",
      "source": [
        "#### 2.5.1 Evaluate model PACK_SUBTYPE"
      ],
      "metadata": {
        "id": "hXPSNvhtKTsB"
      }
    },
    {
      "cell_type": "code",
      "source": [
        "# Evaluate the model on the test data\n",
        "evaluation_results = model.evaluate(X_test_encoded, y_test_PACK_SUBTYPE_encoded_one_hot)\n",
        "\n",
        "# The evaluation results will contain the loss and any specified metrics\n",
        "print(\"Test Loss:\", evaluation_results[0])\n",
        "print(\"Test Accuracy:\", evaluation_results[1])"
      ],
      "metadata": {
        "colab": {
          "base_uri": "https://localhost:8080/"
        },
        "id": "iWiZK7CAHvrF",
        "outputId": "9cb67901-4e9c-4a41-b6ac-3ad713f46a92"
      },
      "execution_count": null,
      "outputs": [
        {
          "output_type": "stream",
          "name": "stdout",
          "text": [
            "76/76 [==============================] - 1s 18ms/step - loss: 0.5277 - accuracy: 0.8014\n",
            "Test Loss: 0.5277420282363892\n",
            "Test Accuracy: 0.8013980388641357\n"
          ]
        }
      ]
    },
    {
      "cell_type": "markdown",
      "source": [
        "#### 2.5.2 Save the model PACK_SUBTYPE"
      ],
      "metadata": {
        "id": "cVNzgko7Kdyp"
      }
    },
    {
      "cell_type": "code",
      "source": [
        "from keras.models import save_model\n",
        "\n",
        "# Save the model to a file named 'your_model_filename.h5'\n",
        "model.save('model_PACK_SUBTYPE.h5')"
      ],
      "metadata": {
        "id": "LoNTWfrVKpsm"
      },
      "execution_count": null,
      "outputs": []
    },
    {
      "cell_type": "markdown",
      "source": [
        "#### 2.5.3 Load the model PACK_SUBTYPE"
      ],
      "metadata": {
        "id": "IrcRsQW3KqVT"
      }
    },
    {
      "cell_type": "code",
      "source": [
        "# Load the saved weights into the model\n",
        "#loaded_model.load_weights('model_PACK_SUBTYPE.h5')"
      ],
      "metadata": {
        "id": "u7uQ8z7yKchC"
      },
      "execution_count": null,
      "outputs": []
    },
    {
      "cell_type": "markdown",
      "source": [
        "## 2.6 Create model TARGET_PACK_CONTENT"
      ],
      "metadata": {
        "id": "k2koNGNNw17_"
      }
    },
    {
      "cell_type": "code",
      "source": [
        "def build_model_content(input_shape, num_classes):\n",
        "    text_input = Input(shape=input_shape, name='text_input')\n",
        "    embedding_layer = Embedding(max_words, 100, input_length=26)(text_input)\n",
        "\n",
        "    lstm_layer = Bidirectional(LSTM(128))(embedding_layer)\n",
        "\n",
        "    output_layer = Dense(num_classes, activation='softmax')(lstm_layer)\n",
        "\n",
        "    model = Model(inputs=text_input, outputs=output_layer)\n",
        "\n",
        "    model.compile(loss='categorical_crossentropy', optimizer='adam', metrics=['accuracy'])\n",
        "\n",
        "    return model"
      ],
      "metadata": {
        "id": "rlyQGqbyzFfr"
      },
      "execution_count": null,
      "outputs": []
    },
    {
      "cell_type": "code",
      "source": [
        "model = build_model_content((26,), len(np.unique(y_train_PACK_CONTENT)))"
      ],
      "metadata": {
        "id": "WSMEYPHOzFfr"
      },
      "execution_count": null,
      "outputs": []
    },
    {
      "cell_type": "code",
      "source": [
        "model.summary()"
      ],
      "metadata": {
        "colab": {
          "base_uri": "https://localhost:8080/"
        },
        "outputId": "496616e5-6530-44c6-da49-ac8003271e6a",
        "id": "imk-4bkTzFfr"
      },
      "execution_count": null,
      "outputs": [
        {
          "output_type": "stream",
          "name": "stdout",
          "text": [
            "Model: \"model\"\n",
            "_________________________________________________________________\n",
            " Layer (type)                Output Shape              Param #   \n",
            "=================================================================\n",
            " text_input (InputLayer)     [(None, 26)]              0         \n",
            "                                                                 \n",
            " embedding_1 (Embedding)     (None, 26, 100)           500000    \n",
            "                                                                 \n",
            " bidirectional_1 (Bidirectio  (None, 256)              234496    \n",
            " nal)                                                            \n",
            "                                                                 \n",
            " dense_1 (Dense)             (None, 9)                 2313      \n",
            "                                                                 \n",
            "=================================================================\n",
            "Total params: 736,809\n",
            "Trainable params: 736,809\n",
            "Non-trainable params: 0\n",
            "_________________________________________________________________\n"
          ]
        }
      ]
    },
    {
      "cell_type": "code",
      "source": [
        "model.fit(X_train_encoded, y_train_PACK_CONTENT_encoded_one_hot, batch_size=32, epochs=10, validation_split=0.2)"
      ],
      "metadata": {
        "colab": {
          "base_uri": "https://localhost:8080/"
        },
        "outputId": "8ed0d062-8fc1-4a6b-9ca8-0e8dadd82d98",
        "id": "jRmiUSXUzFfr"
      },
      "execution_count": null,
      "outputs": [
        {
          "output_type": "stream",
          "name": "stdout",
          "text": [
            "Epoch 1/10\n",
            "244/244 [==============================] - 20s 71ms/step - loss: 0.7470 - accuracy: 0.7235 - val_loss: 0.4060 - val_accuracy: 0.8664\n",
            "Epoch 2/10\n",
            "244/244 [==============================] - 17s 69ms/step - loss: 0.2956 - accuracy: 0.8963 - val_loss: 0.2966 - val_accuracy: 0.9003\n",
            "Epoch 3/10\n",
            "244/244 [==============================] - 17s 71ms/step - loss: 0.1895 - accuracy: 0.9320 - val_loss: 0.2204 - val_accuracy: 0.9203\n",
            "Epoch 4/10\n",
            "244/244 [==============================] - 16s 67ms/step - loss: 0.1501 - accuracy: 0.9429 - val_loss: 0.2838 - val_accuracy: 0.9065\n",
            "Epoch 5/10\n",
            "244/244 [==============================] - 16s 67ms/step - loss: 0.1317 - accuracy: 0.9497 - val_loss: 0.2041 - val_accuracy: 0.9322\n",
            "Epoch 6/10\n",
            "244/244 [==============================] - 18s 73ms/step - loss: 0.1181 - accuracy: 0.9527 - val_loss: 0.2118 - val_accuracy: 0.9270\n",
            "Epoch 7/10\n",
            "244/244 [==============================] - 16s 67ms/step - loss: 0.1097 - accuracy: 0.9562 - val_loss: 0.2082 - val_accuracy: 0.9265\n",
            "Epoch 8/10\n",
            "244/244 [==============================] - 19s 78ms/step - loss: 0.1039 - accuracy: 0.9563 - val_loss: 0.2015 - val_accuracy: 0.9317\n",
            "Epoch 9/10\n",
            "244/244 [==============================] - 18s 75ms/step - loss: 0.0961 - accuracy: 0.9613 - val_loss: 0.2106 - val_accuracy: 0.9311\n",
            "Epoch 10/10\n",
            "244/244 [==============================] - 17s 69ms/step - loss: 0.0907 - accuracy: 0.9609 - val_loss: 0.1980 - val_accuracy: 0.9342\n"
          ]
        },
        {
          "output_type": "execute_result",
          "data": {
            "text/plain": [
              "<keras.callbacks.History at 0x7ff4edd75000>"
            ]
          },
          "metadata": {},
          "execution_count": 68
        }
      ]
    },
    {
      "cell_type": "markdown",
      "source": [
        "#### 2.6.1 Evaluate model PACK_CONTENT"
      ],
      "metadata": {
        "id": "zhPDfHrzzFfr"
      }
    },
    {
      "cell_type": "code",
      "source": [
        "# Evaluate the model on the test data\n",
        "evaluation_results = model.evaluate(X_test_encoded, y_test_PACK_CONTENT_encoded_one_hot)\n",
        "\n",
        "# The evaluation results will contain the loss and any specified metrics\n",
        "print(\"Test Loss:\", evaluation_results[0])\n",
        "print(\"Test Accuracy:\", evaluation_results[1])"
      ],
      "metadata": {
        "colab": {
          "base_uri": "https://localhost:8080/"
        },
        "outputId": "c79015c5-8546-4fb7-95b8-c70eea900589",
        "id": "4vxWBYiDzFfs"
      },
      "execution_count": null,
      "outputs": [
        {
          "output_type": "stream",
          "name": "stdout",
          "text": [
            "76/76 [==============================] - 1s 16ms/step - loss: 0.2202 - accuracy: 0.9309\n",
            "Test Loss: 0.22019308805465698\n",
            "Test Accuracy: 0.9309210777282715\n"
          ]
        }
      ]
    },
    {
      "cell_type": "markdown",
      "source": [
        "#### 2.5.2 Save the model PACK_CONTENT"
      ],
      "metadata": {
        "id": "M49RK7I3zFfs"
      }
    },
    {
      "cell_type": "code",
      "source": [
        "from keras.models import save_model\n",
        "\n",
        "# Save the model to a file named 'your_model_filename.h5'\n",
        "model.save('model_PACK_CONTENT.h5')"
      ],
      "metadata": {
        "id": "X180j3KyzFfs"
      },
      "execution_count": null,
      "outputs": []
    },
    {
      "cell_type": "markdown",
      "source": [
        "#### 2.5.3 Load the model PACK_SUBTYPE"
      ],
      "metadata": {
        "id": "1I73cRUgzFfs"
      }
    },
    {
      "cell_type": "code",
      "source": [
        "# Load the saved weights into the model\n",
        "#loaded_model.load_weights('model_PACK_SUBTYPE.h5')"
      ],
      "metadata": {
        "id": "1HMnbNcazFfs"
      },
      "execution_count": null,
      "outputs": []
    },
    {
      "cell_type": "code",
      "source": [
        "model.predict(X_test_encoded)"
      ],
      "metadata": {
        "colab": {
          "base_uri": "https://localhost:8080/"
        },
        "id": "N47sR9aW4PLq",
        "outputId": "3ec64085-6cf3-4085-814e-ddb3a8856d5b"
      },
      "execution_count": null,
      "outputs": [
        {
          "output_type": "stream",
          "name": "stdout",
          "text": [
            "76/76 [==============================] - 3s 26ms/step\n"
          ]
        },
        {
          "output_type": "execute_result",
          "data": {
            "text/plain": [
              "array([[2.0159762e-06, 7.8868499e-05, 9.9991459e-01, ..., 2.5499762e-06,\n",
              "        6.7944620e-07, 1.9236319e-08],\n",
              "       [6.2496442e-02, 1.9038582e-01, 7.3027015e-01, ..., 2.7897250e-04,\n",
              "        1.3484612e-02, 2.5247328e-04],\n",
              "       [2.0526254e-06, 4.5693905e-05, 9.9994737e-01, ..., 3.2789508e-06,\n",
              "        6.7618981e-07, 2.3820704e-08],\n",
              "       ...,\n",
              "       [3.6403631e-07, 9.9878132e-01, 1.3159480e-04, ..., 1.0561356e-07,\n",
              "        1.0673599e-03, 6.7270175e-06],\n",
              "       [1.1946620e-06, 5.7218705e-05, 9.9993926e-01, ..., 1.4610081e-06,\n",
              "        1.3342951e-07, 8.8320080e-09],\n",
              "       [2.6767170e-06, 2.8660047e-04, 9.9970412e-01, ..., 3.4099198e-06,\n",
              "        9.1767913e-07, 5.5795070e-08]], dtype=float32)"
            ]
          },
          "metadata": {},
          "execution_count": 71
        }
      ]
    },
    {
      "cell_type": "code",
      "source": [],
      "metadata": {
        "id": "tkl6IoxS4SZj"
      },
      "execution_count": null,
      "outputs": []
    }
  ]
}